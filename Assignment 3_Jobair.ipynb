{
 "cells": [
  {
   "cell_type": "markdown",
   "metadata": {},
   "source": [
    "**Name:** Omitted \n",
    "\n",
    "**Studednt ID:** Omitted"
   ]
  },
  {
   "cell_type": "code",
   "execution_count": 1,
   "metadata": {},
   "outputs": [],
   "source": [
    "### Importing necessary libraries\n",
    "\n",
    "## As usual libraries-\n",
    "\n",
    "import numpy as np\n",
    "import pandas as pd\n",
    "\n",
    "\n",
    "## Data visualization libraries-\n",
    "\n",
    "import matplotlib.pyplot as plt\n",
    "import seaborn as sns\n",
    "%matplotlib inline\n",
    "\n",
    "\n",
    "## Regression modelling libraries-\n",
    "\n",
    "from sklearn import linear_model, metrics\n",
    "from sklearn.linear_model import LogisticRegression\n",
    "from sklearn.metrics import mean_squared_error, r2_score, confusion_matrix, classification_report, accuracy_score\n",
    "from sklearn.model_selection import train_test_split, cross_val_score, cross_val_predict\n",
    "import statsmodels.api as sm\n",
    "\n",
    "\n",
    "from sklearn import preprocessing   ## For Preporcessing\n",
    "\n",
    "\n",
    "## Clusetering libraries-\n",
    "\n",
    "from sklearn.cluster import KMeans"
   ]
  },
  {
   "cell_type": "markdown",
   "metadata": {},
   "source": [
    "### Answer to the Question No: 01\n",
    "\n",
    "#### (sn_game.csv)\n",
    "\n",
    "**1. (15 points) In this exercise, you will perform tasks faced by a data scientist working for a game developer company. The company develops games for social networking platforms. Your job is to make sense of a dataset describing users from different perspectives.**"
   ]
  },
  {
   "cell_type": "code",
   "execution_count": 2,
   "metadata": {
    "scrolled": true
   },
   "outputs": [
    {
     "data": {
      "text/html": [
       "<div>\n",
       "<style scoped>\n",
       "    .dataframe tbody tr th:only-of-type {\n",
       "        vertical-align: middle;\n",
       "    }\n",
       "\n",
       "    .dataframe tbody tr th {\n",
       "        vertical-align: top;\n",
       "    }\n",
       "\n",
       "    .dataframe thead th {\n",
       "        text-align: right;\n",
       "    }\n",
       "</style>\n",
       "<table border=\"1\" class=\"dataframe\">\n",
       "  <thead>\n",
       "    <tr style=\"text-align: right;\">\n",
       "      <th></th>\n",
       "      <th>gender</th>\n",
       "      <th>age</th>\n",
       "      <th>edu</th>\n",
       "      <th>salary</th>\n",
       "      <th>sn.conn</th>\n",
       "      <th>sn.min</th>\n",
       "      <th>game.min</th>\n",
       "      <th>game.purchase</th>\n",
       "    </tr>\n",
       "  </thead>\n",
       "  <tbody>\n",
       "    <tr>\n",
       "      <th>297</th>\n",
       "      <td>Male</td>\n",
       "      <td>24</td>\n",
       "      <td>University</td>\n",
       "      <td>3520</td>\n",
       "      <td>25</td>\n",
       "      <td>144.52</td>\n",
       "      <td>15.90</td>\n",
       "      <td>6</td>\n",
       "    </tr>\n",
       "    <tr>\n",
       "      <th>298</th>\n",
       "      <td>Female</td>\n",
       "      <td>33</td>\n",
       "      <td>University</td>\n",
       "      <td>3643</td>\n",
       "      <td>30</td>\n",
       "      <td>132.43</td>\n",
       "      <td>31.78</td>\n",
       "      <td>27</td>\n",
       "    </tr>\n",
       "    <tr>\n",
       "      <th>299</th>\n",
       "      <td>Male</td>\n",
       "      <td>23</td>\n",
       "      <td>High School</td>\n",
       "      <td>3607</td>\n",
       "      <td>21</td>\n",
       "      <td>129.20</td>\n",
       "      <td>36.18</td>\n",
       "      <td>36</td>\n",
       "    </tr>\n",
       "  </tbody>\n",
       "</table>\n",
       "</div>"
      ],
      "text/plain": [
       "     gender  age          edu  salary  sn.conn  sn.min  game.min  \\\n",
       "297    Male   24   University    3520       25  144.52     15.90   \n",
       "298  Female   33   University    3643       30  132.43     31.78   \n",
       "299    Male   23  High School    3607       21  129.20     36.18   \n",
       "\n",
       "     game.purchase  \n",
       "297              6  \n",
       "298             27  \n",
       "299             36  "
      ]
     },
     "execution_count": 2,
     "metadata": {},
     "output_type": "execute_result"
    }
   ],
   "source": [
    "## Reading the given 'sn_game.csv' file\n",
    "\n",
    "df_1 = pd.read_csv('sn_game.csv', sep = ',', header = 0)\n",
    "df_1.tail(3)"
   ]
  },
  {
   "cell_type": "code",
   "execution_count": null,
   "metadata": {},
   "outputs": [],
   "source": []
  },
  {
   "cell_type": "markdown",
   "metadata": {},
   "source": [
    "**• Exploratory data analysis: try to understand the different variables in the data. Identify the variables, based on exploratory data analysis methods, that you think have an effect on the money spent in the game.**"
   ]
  },
  {
   "cell_type": "code",
   "execution_count": 3,
   "metadata": {},
   "outputs": [
    {
     "name": "stdout",
     "output_type": "stream",
     "text": [
      "<class 'pandas.core.frame.DataFrame'>\n",
      "RangeIndex: 300 entries, 0 to 299\n",
      "Data columns (total 8 columns):\n",
      " #   Column         Non-Null Count  Dtype  \n",
      "---  ------         --------------  -----  \n",
      " 0   gender         300 non-null    object \n",
      " 1   age            300 non-null    int64  \n",
      " 2   edu            300 non-null    object \n",
      " 3   salary         300 non-null    int64  \n",
      " 4   sn.conn        300 non-null    int64  \n",
      " 5   sn.min         300 non-null    float64\n",
      " 6   game.min       300 non-null    float64\n",
      " 7   game.purchase  300 non-null    int64  \n",
      "dtypes: float64(2), int64(4), object(2)\n",
      "memory usage: 18.9+ KB\n"
     ]
    }
   ],
   "source": [
    "### Understanding the data\n",
    "\n",
    "df_1.info()\n",
    "\n",
    "## Following we can have a look from multi dimentional agnle to the dataset, \n",
    "# such as- numbers of data entries, null values (if any), datatypes."
   ]
  },
  {
   "cell_type": "code",
   "execution_count": 4,
   "metadata": {},
   "outputs": [
    {
     "data": {
      "text/plain": [
       "(300, 8)"
      ]
     },
     "execution_count": 4,
     "metadata": {},
     "output_type": "execute_result"
    }
   ],
   "source": [
    "### Data Cleaning\n",
    "## Removing duplicate rows (if any) from the dataset\n",
    "\n",
    "df_1_dup = df_1.drop_duplicates(keep = 'first')\n",
    "df_1_dup.shape"
   ]
  },
  {
   "cell_type": "code",
   "execution_count": 5,
   "metadata": {},
   "outputs": [
    {
     "name": "stderr",
     "output_type": "stream",
     "text": [
      "C:\\ProgramData\\Anaconda3\\lib\\site-packages\\ipykernel_launcher.py:16: SettingWithCopyWarning: \n",
      "A value is trying to be set on a copy of a slice from a DataFrame.\n",
      "Try using .loc[row_indexer,col_indexer] = value instead\n",
      "\n",
      "See the caveats in the documentation: https://pandas.pydata.org/pandas-docs/stable/user_guide/indexing.html#returning-a-view-versus-a-copy\n",
      "  app.launch_new_instance()\n"
     ]
    },
    {
     "data": {
      "text/plain": [
       "(209, 8)"
      ]
     },
     "execution_count": 5,
     "metadata": {},
     "output_type": "execute_result"
    }
   ],
   "source": [
    "## Removing outliers: top 5% of values (0.95 quantile)\n",
    "## Funcion for removing outliers-\n",
    "\n",
    "def goons(x):   \n",
    "    \n",
    "    for col in x.columns:\n",
    "        \n",
    " ## This checks whether the string 'float' is the sub-string of x[col].dtype as a string, same with 'int'.\n",
    "\n",
    "        if (('float' in str(x[col].dtype)) | ('int' in str(x[col].dtype))): \n",
    "            \n",
    "            outliers = x[col].quantile(0.95)\n",
    "            x = x[x[col] < outliers]\n",
    "            \n",
    "        else:\n",
    "            x[col] = x[col]\n",
    "            \n",
    "    return x\n",
    "\n",
    "df_sn = goons(df_1_dup)\n",
    "df_sn.shape"
   ]
  },
  {
   "cell_type": "code",
   "execution_count": 6,
   "metadata": {},
   "outputs": [
    {
     "data": {
      "text/html": [
       "<div>\n",
       "<style scoped>\n",
       "    .dataframe tbody tr th:only-of-type {\n",
       "        vertical-align: middle;\n",
       "    }\n",
       "\n",
       "    .dataframe tbody tr th {\n",
       "        vertical-align: top;\n",
       "    }\n",
       "\n",
       "    .dataframe thead th {\n",
       "        text-align: right;\n",
       "    }\n",
       "</style>\n",
       "<table border=\"1\" class=\"dataframe\">\n",
       "  <thead>\n",
       "    <tr style=\"text-align: right;\">\n",
       "      <th></th>\n",
       "      <th>gender</th>\n",
       "      <th>age</th>\n",
       "      <th>salary</th>\n",
       "      <th>sn.conn</th>\n",
       "      <th>sn.min</th>\n",
       "      <th>game.min</th>\n",
       "      <th>game.purchase</th>\n",
       "    </tr>\n",
       "  </thead>\n",
       "  <tbody>\n",
       "    <tr>\n",
       "      <th>58</th>\n",
       "      <td>Female</td>\n",
       "      <td>32</td>\n",
       "      <td>4154</td>\n",
       "      <td>31</td>\n",
       "      <td>202.85</td>\n",
       "      <td>40.57</td>\n",
       "      <td>33</td>\n",
       "    </tr>\n",
       "    <tr>\n",
       "      <th>129</th>\n",
       "      <td>Female</td>\n",
       "      <td>23</td>\n",
       "      <td>1376</td>\n",
       "      <td>22</td>\n",
       "      <td>134.24</td>\n",
       "      <td>21.48</td>\n",
       "      <td>4</td>\n",
       "    </tr>\n",
       "    <tr>\n",
       "      <th>101</th>\n",
       "      <td>Male</td>\n",
       "      <td>31</td>\n",
       "      <td>3001</td>\n",
       "      <td>30</td>\n",
       "      <td>180.32</td>\n",
       "      <td>41.47</td>\n",
       "      <td>28</td>\n",
       "    </tr>\n",
       "  </tbody>\n",
       "</table>\n",
       "</div>"
      ],
      "text/plain": [
       "     gender  age  salary  sn.conn  sn.min  game.min  game.purchase\n",
       "58   Female   32    4154       31  202.85     40.57             33\n",
       "129  Female   23    1376       22  134.24     21.48              4\n",
       "101    Male   31    3001       30  180.32     41.47             28"
      ]
     },
     "execution_count": 6,
     "metadata": {},
     "output_type": "execute_result"
    }
   ],
   "source": [
    "## Dropping non-effective variables\n",
    "\n",
    "df_sn = df_sn.drop(['edu'], axis = 1)  \n",
    "df_sn.sample(3)"
   ]
  },
  {
   "cell_type": "code",
   "execution_count": 7,
   "metadata": {},
   "outputs": [
    {
     "data": {
      "text/plain": [
       "Female    108\n",
       "Male      101\n",
       "Name: gender, dtype: int64"
      ]
     },
     "execution_count": 7,
     "metadata": {},
     "output_type": "execute_result"
    }
   ],
   "source": [
    "## Checking the numbers of males and females in the dataset\n",
    "\n",
    "df_sn['gender'].value_counts()"
   ]
  },
  {
   "cell_type": "code",
   "execution_count": 8,
   "metadata": {},
   "outputs": [
    {
     "data": {
      "text/html": [
       "<div>\n",
       "<style scoped>\n",
       "    .dataframe tbody tr th:only-of-type {\n",
       "        vertical-align: middle;\n",
       "    }\n",
       "\n",
       "    .dataframe tbody tr th {\n",
       "        vertical-align: top;\n",
       "    }\n",
       "\n",
       "    .dataframe thead th {\n",
       "        text-align: right;\n",
       "    }\n",
       "</style>\n",
       "<table border=\"1\" class=\"dataframe\">\n",
       "  <thead>\n",
       "    <tr style=\"text-align: right;\">\n",
       "      <th></th>\n",
       "      <th>count</th>\n",
       "      <th>mean</th>\n",
       "      <th>std</th>\n",
       "      <th>min</th>\n",
       "      <th>25%</th>\n",
       "      <th>50%</th>\n",
       "      <th>75%</th>\n",
       "      <th>max</th>\n",
       "    </tr>\n",
       "  </thead>\n",
       "  <tbody>\n",
       "    <tr>\n",
       "      <th>age</th>\n",
       "      <td>209.0</td>\n",
       "      <td>24.679426</td>\n",
       "      <td>3.987674</td>\n",
       "      <td>20.00</td>\n",
       "      <td>21.00</td>\n",
       "      <td>24.00</td>\n",
       "      <td>28.00</td>\n",
       "      <td>35.00</td>\n",
       "    </tr>\n",
       "    <tr>\n",
       "      <th>salary</th>\n",
       "      <td>209.0</td>\n",
       "      <td>2813.976077</td>\n",
       "      <td>1045.832993</td>\n",
       "      <td>1012.00</td>\n",
       "      <td>1828.00</td>\n",
       "      <td>2949.00</td>\n",
       "      <td>3695.00</td>\n",
       "      <td>4782.00</td>\n",
       "    </tr>\n",
       "    <tr>\n",
       "      <th>sn.conn</th>\n",
       "      <td>209.0</td>\n",
       "      <td>24.066986</td>\n",
       "      <td>3.871160</td>\n",
       "      <td>18.00</td>\n",
       "      <td>21.00</td>\n",
       "      <td>23.00</td>\n",
       "      <td>26.00</td>\n",
       "      <td>33.00</td>\n",
       "    </tr>\n",
       "    <tr>\n",
       "      <th>sn.min</th>\n",
       "      <td>209.0</td>\n",
       "      <td>142.344545</td>\n",
       "      <td>27.146609</td>\n",
       "      <td>78.89</td>\n",
       "      <td>123.12</td>\n",
       "      <td>141.63</td>\n",
       "      <td>161.95</td>\n",
       "      <td>211.73</td>\n",
       "    </tr>\n",
       "    <tr>\n",
       "      <th>game.min</th>\n",
       "      <td>209.0</td>\n",
       "      <td>25.303732</td>\n",
       "      <td>8.680736</td>\n",
       "      <td>8.09</td>\n",
       "      <td>17.09</td>\n",
       "      <td>24.24</td>\n",
       "      <td>31.82</td>\n",
       "      <td>49.45</td>\n",
       "    </tr>\n",
       "    <tr>\n",
       "      <th>game.purchase</th>\n",
       "      <td>209.0</td>\n",
       "      <td>12.755981</td>\n",
       "      <td>8.665958</td>\n",
       "      <td>1.00</td>\n",
       "      <td>6.00</td>\n",
       "      <td>11.00</td>\n",
       "      <td>18.00</td>\n",
       "      <td>36.00</td>\n",
       "    </tr>\n",
       "  </tbody>\n",
       "</table>\n",
       "</div>"
      ],
      "text/plain": [
       "               count         mean          std      min      25%      50%  \\\n",
       "age            209.0    24.679426     3.987674    20.00    21.00    24.00   \n",
       "salary         209.0  2813.976077  1045.832993  1012.00  1828.00  2949.00   \n",
       "sn.conn        209.0    24.066986     3.871160    18.00    21.00    23.00   \n",
       "sn.min         209.0   142.344545    27.146609    78.89   123.12   141.63   \n",
       "game.min       209.0    25.303732     8.680736     8.09    17.09    24.24   \n",
       "game.purchase  209.0    12.755981     8.665958     1.00     6.00    11.00   \n",
       "\n",
       "                   75%      max  \n",
       "age              28.00    35.00  \n",
       "salary         3695.00  4782.00  \n",
       "sn.conn          26.00    33.00  \n",
       "sn.min          161.95   211.73  \n",
       "game.min         31.82    49.45  \n",
       "game.purchase    18.00    36.00  "
      ]
     },
     "execution_count": 8,
     "metadata": {},
     "output_type": "execute_result"
    }
   ],
   "source": [
    "## Some descriptive statistics\n",
    "\n",
    "df_sn.describe().transpose()  "
   ]
  },
  {
   "cell_type": "code",
   "execution_count": 9,
   "metadata": {},
   "outputs": [
    {
     "data": {
      "text/plain": [
       "gender             2\n",
       "age               16\n",
       "salary           204\n",
       "sn.conn           16\n",
       "sn.min           208\n",
       "game.min         202\n",
       "game.purchase     35\n",
       "dtype: int64"
      ]
     },
     "execution_count": 9,
     "metadata": {},
     "output_type": "execute_result"
    }
   ],
   "source": [
    "df_sn.nunique()  ## Checking unique values"
   ]
  },
  {
   "cell_type": "code",
   "execution_count": 10,
   "metadata": {},
   "outputs": [
    {
     "data": {
      "text/plain": [
       "array([[<matplotlib.axes._subplots.AxesSubplot object at 0x0000021D5C761CC8>,\n",
       "        <matplotlib.axes._subplots.AxesSubplot object at 0x0000021D588613C8>],\n",
       "       [<matplotlib.axes._subplots.AxesSubplot object at 0x0000021D5C83A108>,\n",
       "        <matplotlib.axes._subplots.AxesSubplot object at 0x0000021D5C872188>],\n",
       "       [<matplotlib.axes._subplots.AxesSubplot object at 0x0000021D5C8A9288>,\n",
       "        <matplotlib.axes._subplots.AxesSubplot object at 0x0000021D5C8E2388>]],\n",
       "      dtype=object)"
      ]
     },
     "execution_count": 10,
     "metadata": {},
     "output_type": "execute_result"
    },
    {
     "data": {
      "image/png": "[encoded data removed]",
      "text/plain": [
       "<Figure size 864x576 with 6 Axes>"
      ]
     },
     "metadata": {
      "needs_background": "light"
     },
     "output_type": "display_data"
    }
   ],
   "source": [
    "### Now we will see some vizualized form of data analysis\n",
    "\n",
    "sn_num = df_sn.select_dtypes('number')\n",
    "sn_num.hist(figsize=(12, 8))"
   ]
  },
  {
   "cell_type": "code",
   "execution_count": 11,
   "metadata": {},
   "outputs": [
    {
     "data": {
      "text/plain": [
       "<matplotlib.axes._subplots.AxesSubplot at 0x21d5ca5d808>"
      ]
     },
     "execution_count": 11,
     "metadata": {},
     "output_type": "execute_result"
    },
    {
     "data": {
      "image/png": "[encoded data removed]",
      "text/plain": [
       "<Figure size 432x288 with 1 Axes>"
      ]
     },
     "metadata": {
      "needs_background": "light"
     },
     "output_type": "display_data"
    }
   ],
   "source": [
    "sns.distplot(df_sn['game.purchase'])"
   ]
  },
  {
   "cell_type": "code",
   "execution_count": 12,
   "metadata": {},
   "outputs": [
    {
     "data": {
      "text/plain": [
       "<matplotlib.axes._subplots.AxesSubplot at 0x21d5d17fc48>"
      ]
     },
     "execution_count": 12,
     "metadata": {},
     "output_type": "execute_result"
    },
    {
     "data": {
      "image/png": "[encoded data removed]",
      "text/plain": [
       "<Figure size 432x288 with 1 Axes>"
      ]
     },
     "metadata": {
      "needs_background": "light"
     },
     "output_type": "display_data"
    }
   ],
   "source": [
    "sns.distplot(df_sn['game.min'])"
   ]
  },
  {
   "cell_type": "code",
   "execution_count": 13,
   "metadata": {},
   "outputs": [
    {
     "data": {
      "text/plain": [
       "<matplotlib.axes._subplots.AxesSubplot at 0x21d5bd40a08>"
      ]
     },
     "execution_count": 13,
     "metadata": {},
     "output_type": "execute_result"
    },
    {
     "data": {
      "image/png": "[encoded data removed]",
      "text/plain": [
       "<Figure size 432x288 with 1 Axes>"
      ]
     },
     "metadata": {
      "needs_background": "light"
     },
     "output_type": "display_data"
    }
   ],
   "source": [
    "sns.distplot(df_sn['sn.min'])"
   ]
  },
  {
   "cell_type": "code",
   "execution_count": 14,
   "metadata": {},
   "outputs": [
    {
     "data": {
      "text/plain": [
       "<matplotlib.axes._subplots.AxesSubplot at 0x21d5d29ee48>"
      ]
     },
     "execution_count": 14,
     "metadata": {},
     "output_type": "execute_result"
    },
    {
     "data": {
      "image/png": "[encoded data removed]",
      "text/plain": [
       "<Figure size 432x288 with 1 Axes>"
      ]
     },
     "metadata": {
      "needs_background": "light"
     },
     "output_type": "display_data"
    }
   ],
   "source": [
    "sns.distplot(df_sn['salary'])"
   ]
  },
  {
   "cell_type": "code",
   "execution_count": 15,
   "metadata": {},
   "outputs": [
    {
     "data": {
      "image/png": "[encoded data removed]",
      "text/plain": [
       "<Figure size 1152.62x180 with 6 Axes>"
      ]
     },
     "metadata": {
      "needs_background": "light"
     },
     "output_type": "display_data"
    }
   ],
   "source": [
    "### Relationship analysis.\n",
    "\n",
    "## Plotting relationship of 'game.purchase' column with the other numerical columns using pariplot-\n",
    "\n",
    "## Here, in the x_var, 'sn_num' is used to have only numerical variables (exlcuded 'gender' from the plot). \n",
    "# (If we use only 'sn_num' for the whole loop, then we can't use the 'hue' argument.\n",
    "\n",
    "for col in range(0, len(df_sn.columns), 8):\n",
    "    sns.pairplot(df_sn, y_vars = ['game.purchase'], x_vars = sn_num.columns, hue = 'gender')"
   ]
  },
  {
   "cell_type": "code",
   "execution_count": 16,
   "metadata": {},
   "outputs": [
    {
     "name": "stdout",
     "output_type": "stream",
     "text": [
      "                    age    salary   sn.conn    sn.min  game.min  game.purchase\n",
      "age            1.000000 -0.108125  0.936655  0.512966  0.176322      -0.008257\n",
      "salary        -0.108125  1.000000 -0.118393 -0.082433 -0.173554       0.411071\n",
      "sn.conn        0.936655 -0.118393  1.000000  0.567600  0.220653       0.000633\n",
      "sn.min         0.512966 -0.082433  0.567600  1.000000  0.464849       0.137942\n",
      "game.min       0.176322 -0.173554  0.220653  0.464849  1.000000       0.739180\n",
      "game.purchase -0.008257  0.411071  0.000633  0.137942  0.739180       1.000000\n"
     ]
    },
    {
     "data": {
      "text/plain": [
       "<matplotlib.axes._subplots.AxesSubplot at 0x21d5e7bdfc8>"
      ]
     },
     "execution_count": 16,
     "metadata": {},
     "output_type": "execute_result"
    },
    {
     "data": {
      "image/png": "[encoded data removed]",
      "text/plain": [
       "<Figure size 432x288 with 2 Axes>"
      ]
     },
     "metadata": {
      "needs_background": "light"
     },
     "output_type": "display_data"
    }
   ],
   "source": [
    "## Correaltion matrix\n",
    "\n",
    "corr = df_sn.corr()\n",
    "\n",
    "print(corr)\n",
    "\n",
    "## As our target varaible is 'game.purchase', we will consider its correlation with other variables.\n",
    "\n",
    "sns.heatmap(corr[(corr <= -0.4) | (corr >= 0.4)], annot = True, cmap = 'Reds')\n",
    "\n",
    "## We assume that, Correlation Coefficient values greater than (- 0.4) or less than (+ 0.4) are not that significant.\n",
    "## Therefore, from now on we shall more focus on the significant variables- 'salary' and 'game.min' in relation to \n",
    "# our target variable 'game.purchase'"
   ]
  },
  {
   "cell_type": "code",
   "execution_count": 17,
   "metadata": {},
   "outputs": [
    {
     "data": {
      "text/plain": [
       "<seaborn.axisgrid.JointGrid at 0x21d5e88a8c8>"
      ]
     },
     "execution_count": 17,
     "metadata": {},
     "output_type": "execute_result"
    },
    {
     "data": {
      "image/png": "[encoded data removed]",
      "text/plain": [
       "<Figure size 432x432 with 3 Axes>"
      ]
     },
     "metadata": {
      "needs_background": "light"
     },
     "output_type": "display_data"
    }
   ],
   "source": [
    "sns.jointplot('game.min', 'game.purchase', data = df_sn, kind = 'reg')"
   ]
  },
  {
   "cell_type": "code",
   "execution_count": 18,
   "metadata": {},
   "outputs": [
    {
     "data": {
      "text/plain": [
       "<seaborn.axisgrid.JointGrid at 0x21d5d68c408>"
      ]
     },
     "execution_count": 18,
     "metadata": {},
     "output_type": "execute_result"
    },
    {
     "data": {
      "image/png": "[encoded data removed]",
      "text/plain": [
       "<Figure size 432x432 with 3 Axes>"
      ]
     },
     "metadata": {
      "needs_background": "light"
     },
     "output_type": "display_data"
    }
   ],
   "source": [
    "sns.jointplot('salary', 'game.purchase', data = df_sn, kind = 'hex')"
   ]
  },
  {
   "cell_type": "code",
   "execution_count": 19,
   "metadata": {},
   "outputs": [
    {
     "data": {
      "text/plain": [
       "<seaborn.axisgrid.FacetGrid at 0x21d5e7bda08>"
      ]
     },
     "execution_count": 19,
     "metadata": {},
     "output_type": "execute_result"
    },
    {
     "data": {
      "image/png": "[encoded data removed]",
      "text/plain": [
       "<Figure size 360x360 with 1 Axes>"
      ]
     },
     "metadata": {
      "needs_background": "light"
     },
     "output_type": "display_data"
    }
   ],
   "source": [
    "### We will alos chec our categorical column- 'gender' if it somehow affects the target variable- 'game.purchase'\n",
    "\n",
    "sns.catplot(x = 'gender', y = 'game.purchase', kind = 'box', data = df_sn)"
   ]
  },
  {
   "cell_type": "code",
   "execution_count": 20,
   "metadata": {},
   "outputs": [
    {
     "data": {
      "text/plain": [
       "<matplotlib.axes._subplots.AxesSubplot at 0x21d5d64a748>"
      ]
     },
     "execution_count": 20,
     "metadata": {},
     "output_type": "execute_result"
    },
    {
     "data": {
      "image/png": "[encoded data removed]",
      "text/plain": [
       "<Figure size 432x288 with 1 Axes>"
      ]
     },
     "metadata": {
      "needs_background": "light"
     },
     "output_type": "display_data"
    }
   ],
   "source": [
    "sns.stripplot(x = 'gender', y = 'game.purchase', data = df_sn, jitter = True, dodge = True)"
   ]
  },
  {
   "cell_type": "markdown",
   "metadata": {},
   "source": [
    "**Comments:-** We can see that, 'gender' does not affect our target variable 'game.purchase'that much.Therefore, for our regression modelling we will go with 'salary' and 'game.min' variables"
   ]
  },
  {
   "cell_type": "code",
   "execution_count": null,
   "metadata": {},
   "outputs": [],
   "source": []
  },
  {
   "cell_type": "markdown",
   "metadata": {},
   "source": [
    "**• Develop a regression model that the company can use to predict a new users’ future spending in the game. The model should contain only the variables that were found as potentially important in the previous step.**"
   ]
  },
  {
   "cell_type": "code",
   "execution_count": 21,
   "metadata": {},
   "outputs": [],
   "source": [
    "### Regression modeling\n",
    "\n",
    "## Separate predictors and target variable \n",
    "\n",
    "sn_x, sn_y = df_sn[['salary', 'game.min']], df_sn['game.purchase']\n",
    "\n",
    "## Data Split: Deviding the data into training (80 %) and test set (20 %) using 'random_state = 0' method\n",
    "\n",
    "sn_x_train, sn_x_test, sn_y_train, sn_y_test = train_test_split(sn_x, sn_y, test_size = 0.2, random_state = 0)"
   ]
  },
  {
   "cell_type": "code",
   "execution_count": 22,
   "metadata": {},
   "outputs": [
    {
     "name": "stdout",
     "output_type": "stream",
     "text": [
      "(209, 2) (209,)\n",
      "(167, 2) (42, 2)\n",
      "(167,) (42,)\n"
     ]
    }
   ],
   "source": [
    "## Checking the shape of splitted items\n",
    "\n",
    "print(sn_x.shape, sn_y.shape)\n",
    "print(sn_x_train.shape, sn_x_test.shape)\n",
    "print(sn_y_train.shape, sn_y_test.shape)"
   ]
  },
  {
   "cell_type": "code",
   "execution_count": 23,
   "metadata": {},
   "outputs": [],
   "source": [
    "### Building Linear Model-\n",
    "\n",
    "## Defining the regression model\n",
    "\n",
    "sn_model = linear_model.LinearRegression()"
   ]
  },
  {
   "cell_type": "code",
   "execution_count": 24,
   "metadata": {},
   "outputs": [
    {
     "data": {
      "text/plain": [
       "LinearRegression(copy_X=True, fit_intercept=True, n_jobs=None, normalize=False)"
      ]
     },
     "execution_count": 24,
     "metadata": {},
     "output_type": "execute_result"
    }
   ],
   "source": [
    "## Now we will train the model using 'fit' method on the training set \n",
    "\n",
    "sn_model.fit(sn_x_train, sn_y_train)"
   ]
  },
  {
   "cell_type": "code",
   "execution_count": 25,
   "metadata": {},
   "outputs": [],
   "source": [
    "### Applying the model (Prediction)\n",
    "\n",
    "## Once we trained our model, now we can make predictions for test set\n",
    "\n",
    "sn_y_pred = sn_model.predict(sn_x_test)"
   ]
  },
  {
   "cell_type": "code",
   "execution_count": 26,
   "metadata": {},
   "outputs": [
    {
     "name": "stdout",
     "output_type": "stream",
     "text": [
      "13      9\n",
      "115    14\n",
      "43     22\n",
      "5       4\n",
      "267     9\n",
      "Name: game.purchase, dtype: int64\n",
      "0    14\n",
      "1    14\n",
      "2    23\n",
      "3    -1\n",
      "4    14\n",
      "dtype: int32\n"
     ]
    }
   ],
   "source": [
    "### Now we will see what the result looks like compared to the original\n",
    "\n",
    "print(sn_y_test[:5])\n",
    "                      ## Here,'sn_y_test' is the actual value and 'sn_y_pred' is the perdicted value.\n",
    "    \n",
    "print(pd.Series(sn_y_pred[:5]).astype('int')) ## To get the values in integar format, as by defalut it is an np array."
   ]
  },
  {
   "cell_type": "code",
   "execution_count": 27,
   "metadata": {},
   "outputs": [
    {
     "name": "stdout",
     "output_type": "stream",
     "text": [
      "Training set: 0.8500065698981918\n",
      "Test set: 0.8059088224511004\n"
     ]
    }
   ],
   "source": [
    "### Model evaluation\n",
    "\n",
    "## Results for the Training and Test sets \n",
    "\n",
    "print('Training set:', sn_model.score(sn_x_train, sn_y_train))\n",
    "print('Test set:', sn_model.score(sn_x_test, sn_y_test))"
   ]
  },
  {
   "cell_type": "code",
   "execution_count": 28,
   "metadata": {},
   "outputs": [
    {
     "data": {
      "text/plain": [
       "0.7935085782772362"
      ]
     },
     "execution_count": 28,
     "metadata": {},
     "output_type": "execute_result"
    }
   ],
   "source": [
    "### Scores with Cross validation\n",
    "\n",
    "sn_scores = cross_val_score(sn_model, sn_x, sn_y, cv = 10)\n",
    "sn_scores.mean()   ## Our model performance should be as close as to this Cross Validated Score Mean."
   ]
  },
  {
   "cell_type": "code",
   "execution_count": 29,
   "metadata": {},
   "outputs": [
    {
     "name": "stdout",
     "output_type": "stream",
     "text": [
      "Intercept: -22.34975653790282\n",
      "Slope or Coef: [0.00495228 0.83839428]\n"
     ]
    }
   ],
   "source": [
    "## The intercept and slope\n",
    "\n",
    "print('Intercept:', sn_model.intercept_)\n",
    "print('Slope or Coef:', sn_model.coef_)"
   ]
  },
  {
   "cell_type": "code",
   "execution_count": 30,
   "metadata": {},
   "outputs": [
    {
     "name": "stdout",
     "output_type": "stream",
     "text": [
      "mse: 8.919501875284325\n",
      "coef of determination: 0.8059088224511004\n"
     ]
    }
   ],
   "source": [
    "## The mean square error\n",
    "\n",
    "print('mse:', mean_squared_error(sn_y_test, sn_y_pred))   \n",
    "                                            \n",
    "## And the coefficient of determination (We know that '1' is perfect prediction)\n",
    "\n",
    "print('coef of determination:', r2_score(sn_y_test, sn_y_pred))"
   ]
  },
  {
   "cell_type": "code",
   "execution_count": 31,
   "metadata": {},
   "outputs": [
    {
     "data": {
      "text/plain": [
       "<matplotlib.axes._subplots.AxesSubplot at 0x21d5d604808>"
      ]
     },
     "execution_count": 31,
     "metadata": {},
     "output_type": "execute_result"
    },
    {
     "data": {
      "image/png": "[encoded data removed]",
      "text/plain": [
       "<Figure size 432x288 with 1 Axes>"
      ]
     },
     "metadata": {
      "needs_background": "light"
     },
     "output_type": "display_data"
    }
   ],
   "source": [
    "## Creating the residual plot\n",
    "\n",
    "sn_residuals = sn_y_test - sn_y_pred\n",
    "\n",
    "sns.distplot(sn_residuals)"
   ]
  },
  {
   "cell_type": "code",
   "execution_count": 32,
   "metadata": {},
   "outputs": [
    {
     "data": {
      "text/plain": [
       "<matplotlib.axes._subplots.AxesSubplot at 0x21d5ea8ff08>"
      ]
     },
     "execution_count": 32,
     "metadata": {},
     "output_type": "execute_result"
    },
    {
     "data": {
      "image/png": "[encoded data removed]",
      "text/plain": [
       "<Figure size 432x288 with 1 Axes>"
      ]
     },
     "metadata": {
      "needs_background": "light"
     },
     "output_type": "display_data"
    }
   ],
   "source": [
    "sns.scatterplot(df_sn['salary'], sn_residuals)"
   ]
  },
  {
   "cell_type": "code",
   "execution_count": 33,
   "metadata": {},
   "outputs": [
    {
     "data": {
      "text/plain": [
       "<matplotlib.axes._subplots.AxesSubplot at 0x21d5eaff248>"
      ]
     },
     "execution_count": 33,
     "metadata": {},
     "output_type": "execute_result"
    },
    {
     "data": {
      "image/png": "[encoded data removed]",
      "text/plain": [
       "<Figure size 432x288 with 1 Axes>"
      ]
     },
     "metadata": {
      "needs_background": "light"
     },
     "output_type": "display_data"
    }
   ],
   "source": [
    "sns.scatterplot(df_sn['game.min'], sn_residuals)"
   ]
  },
  {
   "cell_type": "code",
   "execution_count": 34,
   "metadata": {},
   "outputs": [
    {
     "data": {
      "text/plain": [
       "<matplotlib.axes._subplots.AxesSubplot at 0x21d5eb41b48>"
      ]
     },
     "execution_count": 34,
     "metadata": {},
     "output_type": "execute_result"
    },
    {
     "data": {
      "image/png": "[encoded data removed]",
      "text/plain": [
       "<Figure size 432x288 with 1 Axes>"
      ]
     },
     "metadata": {
      "needs_background": "light"
     },
     "output_type": "display_data"
    }
   ],
   "source": [
    "sns.scatterplot(sn_y_test, sn_y_pred)"
   ]
  },
  {
   "cell_type": "code",
   "execution_count": 35,
   "metadata": {},
   "outputs": [
    {
     "name": "stdout",
     "output_type": "stream",
     "text": [
      "13     14.665678\n",
      "115    14.542768\n",
      "43     23.307080\n",
      "5      -1.070352\n",
      "267    14.108853\n",
      "dtype: float64\n",
      "                            OLS Regression Results                            \n",
      "==============================================================================\n",
      "Dep. Variable:          game.purchase   R-squared:                       0.850\n",
      "Model:                            OLS   Adj. R-squared:                  0.848\n",
      "Method:                 Least Squares   F-statistic:                     464.7\n",
      "Date:                Sun, 11 Apr 2021   Prob (F-statistic):           2.74e-68\n",
      "Time:                        23:49:43   Log-Likelihood:                -446.45\n",
      "No. Observations:                 167   AIC:                             898.9\n",
      "Df Residuals:                     164   BIC:                             908.3\n",
      "Df Model:                           2                                         \n",
      "Covariance Type:            nonrobust                                         \n",
      "==============================================================================\n",
      "                 coef    std err          t      P>|t|      [0.025      0.975]\n",
      "------------------------------------------------------------------------------\n",
      "const        -22.3498      1.202    -18.597      0.000     -24.723     -19.977\n",
      "salary         0.0050      0.000     18.857      0.000       0.004       0.005\n",
      "game.min       0.8384      0.031     26.726      0.000       0.776       0.900\n",
      "==============================================================================\n",
      "Omnibus:                        3.209   Durbin-Watson:                   2.105\n",
      "Prob(Omnibus):                  0.201   Jarque-Bera (JB):                2.960\n",
      "Skew:                           0.325   Prob(JB):                        0.228\n",
      "Kurtosis:                       3.052   Cond. No.                     1.31e+04\n",
      "==============================================================================\n",
      "\n",
      "Warnings:\n",
      "[1] Standard Errors assume that the covariance matrix of the errors is correctly specified.\n",
      "[2] The condition number is large, 1.31e+04. This might indicate that there are\n",
      "strong multicollinearity or other numerical problems.\n"
     ]
    }
   ],
   "source": [
    "### Alternatively, we can also use statsmodels library to build the same model (it helps get the results of statistical tests)\n",
    "\n",
    "sn_st_model = sm.add_constant(sn_x_train)   ## Creating a Training Object using the training set\n",
    "\n",
    "sn_est = sm.OLS(sn_y_train, sn_st_model)  ## To train to get the output type 'sn_y_train' using the created object.\n",
    "\n",
    "sn_est_fit = sn_est.fit()   ## Fitting our created estimation object on training sets\n",
    "\n",
    "sn_st_result = sm.add_constant(sn_x_test)  ## Creating the object to obtain the prediction\n",
    "\n",
    "print(sn_est_fit.predict(sn_st_result)[:5])   ## To see how the prediction looks like\n",
    "\n",
    "print(sn_est_fit.summary())   ## for a better view of the output, we use print option here."
   ]
  },
  {
   "cell_type": "code",
   "execution_count": 36,
   "metadata": {},
   "outputs": [
    {
     "data": {
      "text/plain": [
       "<matplotlib.axes._subplots.AxesSubplot at 0x21d5ec05208>"
      ]
     },
     "execution_count": 36,
     "metadata": {},
     "output_type": "execute_result"
    },
    {
     "data": {
      "image/png": "[encoded data removed]",
      "text/plain": [
       "<Figure size 432x288 with 1 Axes>"
      ]
     },
     "metadata": {
      "needs_background": "light"
     },
     "output_type": "display_data"
    }
   ],
   "source": [
    "### Improving the model: Making Cross Validated Predictions\n",
    "\n",
    "sn_y_pred2 = cross_val_predict(sn_model, sn_x, sn_y, cv = 10)\n",
    "sns.scatterplot(sn_y, sn_y_pred2)\n",
    "\n",
    "### Since our model is alredy giving us expeted performance, this cross validation is not applicable here."
   ]
  },
  {
   "cell_type": "code",
   "execution_count": null,
   "metadata": {},
   "outputs": [],
   "source": []
  },
  {
   "cell_type": "markdown",
   "metadata": {},
   "source": [
    "### Answer to the Question No: 02\n",
    "\n",
    "*(haberman.csv)*\n",
    "\n",
    "**2. (10 points) In this exercise, you will have to analyze a dataset (haberman.csv) that contains cases from a study that was conducted between 1958 and 1970 at the University of Chicago’s Billings Hospital on patients who had undergone surgery for breast cancer. The task is to determine if the patient survived 5 years or longer (positive) or if the patient died within 5 year (negative).** \n",
    "\n",
    "**(More details on the dataset: https://archive.ics.uci.edu/ml/machine-learning-databases/haberman/haberman.names)**"
   ]
  },
  {
   "cell_type": "code",
   "execution_count": 37,
   "metadata": {},
   "outputs": [
    {
     "data": {
      "text/html": [
       "<div>\n",
       "<style scoped>\n",
       "    .dataframe tbody tr th:only-of-type {\n",
       "        vertical-align: middle;\n",
       "    }\n",
       "\n",
       "    .dataframe tbody tr th {\n",
       "        vertical-align: top;\n",
       "    }\n",
       "\n",
       "    .dataframe thead th {\n",
       "        text-align: right;\n",
       "    }\n",
       "</style>\n",
       "<table border=\"1\" class=\"dataframe\">\n",
       "  <thead>\n",
       "    <tr style=\"text-align: right;\">\n",
       "      <th></th>\n",
       "      <th>Age</th>\n",
       "      <th>Year of operation</th>\n",
       "      <th>Number of positive axillary nodes detected</th>\n",
       "      <th>Survival status</th>\n",
       "    </tr>\n",
       "  </thead>\n",
       "  <tbody>\n",
       "    <tr>\n",
       "      <th>303</th>\n",
       "      <td>77</td>\n",
       "      <td>65</td>\n",
       "      <td>3</td>\n",
       "      <td>1</td>\n",
       "    </tr>\n",
       "    <tr>\n",
       "      <th>304</th>\n",
       "      <td>78</td>\n",
       "      <td>65</td>\n",
       "      <td>1</td>\n",
       "      <td>2</td>\n",
       "    </tr>\n",
       "    <tr>\n",
       "      <th>305</th>\n",
       "      <td>83</td>\n",
       "      <td>58</td>\n",
       "      <td>2</td>\n",
       "      <td>2</td>\n",
       "    </tr>\n",
       "  </tbody>\n",
       "</table>\n",
       "</div>"
      ],
      "text/plain": [
       "     Age  Year of operation  Number of positive axillary nodes detected  \\\n",
       "303   77                 65                                           3   \n",
       "304   78                 65                                           1   \n",
       "305   83                 58                                           2   \n",
       "\n",
       "     Survival status  \n",
       "303                1  \n",
       "304                2  \n",
       "305                2  "
      ]
     },
     "execution_count": 37,
     "metadata": {},
     "output_type": "execute_result"
    }
   ],
   "source": [
    "## Reading the given 'haberman.csv' file\n",
    "\n",
    "column_names  = ['Age', 'Year of operation', 'Number of positive axillary nodes detected', 'Survival status']\n",
    "\n",
    "df_2 = pd.read_csv('haberman.csv', sep = ',', names = column_names)\n",
    "df_2.tail(3)"
   ]
  },
  {
   "cell_type": "markdown",
   "metadata": {},
   "source": [
    "**• Build a logistic regression classification model using all the three predictor variables (Age, Year of operation, Number of positive axillary nodes detected). Divide the data set into training (70 %) and test set (30 %),  use random state = 0, and follow the process of building a classification model as discussed in the course.**"
   ]
  },
  {
   "cell_type": "code",
   "execution_count": 38,
   "metadata": {},
   "outputs": [
    {
     "name": "stdout",
     "output_type": "stream",
     "text": [
      "<class 'pandas.core.frame.DataFrame'>\n",
      "RangeIndex: 306 entries, 0 to 305\n",
      "Data columns (total 4 columns):\n",
      " #   Column                                      Non-Null Count  Dtype\n",
      "---  ------                                      --------------  -----\n",
      " 0   Age                                         306 non-null    int64\n",
      " 1   Year of operation                           306 non-null    int64\n",
      " 2   Number of positive axillary nodes detected  306 non-null    int64\n",
      " 3   Survival status                             306 non-null    int64\n",
      "dtypes: int64(4)\n",
      "memory usage: 9.7 KB\n"
     ]
    }
   ],
   "source": [
    "### Understanding the data, Data Prepearation and EDA\n",
    "\n",
    "## Following we can have a look from multi dimentional agnle to the dataset, \n",
    "# such as- numbers of data entries, null values (if any), datatypes.\n",
    "\n",
    "df_2.info()"
   ]
  },
  {
   "cell_type": "code",
   "execution_count": 39,
   "metadata": {},
   "outputs": [
    {
     "data": {
      "text/html": [
       "<div>\n",
       "<style scoped>\n",
       "    .dataframe tbody tr th:only-of-type {\n",
       "        vertical-align: middle;\n",
       "    }\n",
       "\n",
       "    .dataframe tbody tr th {\n",
       "        vertical-align: top;\n",
       "    }\n",
       "\n",
       "    .dataframe thead th {\n",
       "        text-align: right;\n",
       "    }\n",
       "</style>\n",
       "<table border=\"1\" class=\"dataframe\">\n",
       "  <thead>\n",
       "    <tr style=\"text-align: right;\">\n",
       "      <th></th>\n",
       "      <th>Age</th>\n",
       "      <th>Year of operation</th>\n",
       "      <th>Number of positive axillary nodes detected</th>\n",
       "      <th>Survival status</th>\n",
       "    </tr>\n",
       "  </thead>\n",
       "  <tbody>\n",
       "    <tr>\n",
       "      <th>303</th>\n",
       "      <td>77</td>\n",
       "      <td>1965</td>\n",
       "      <td>3</td>\n",
       "      <td>1</td>\n",
       "    </tr>\n",
       "    <tr>\n",
       "      <th>304</th>\n",
       "      <td>78</td>\n",
       "      <td>1965</td>\n",
       "      <td>1</td>\n",
       "      <td>2</td>\n",
       "    </tr>\n",
       "    <tr>\n",
       "      <th>305</th>\n",
       "      <td>83</td>\n",
       "      <td>1958</td>\n",
       "      <td>2</td>\n",
       "      <td>2</td>\n",
       "    </tr>\n",
       "  </tbody>\n",
       "</table>\n",
       "</div>"
      ],
      "text/plain": [
       "     Age  Year of operation  Number of positive axillary nodes detected  \\\n",
       "303   77               1965                                           3   \n",
       "304   78               1965                                           1   \n",
       "305   83               1958                                           2   \n",
       "\n",
       "     Survival status  \n",
       "303                1  \n",
       "304                2  \n",
       "305                2  "
      ]
     },
     "execution_count": 39,
     "metadata": {},
     "output_type": "execute_result"
    }
   ],
   "source": [
    "## Converting year format in the 'Year of operation column' from 'YY' to 'YYYY'\n",
    "\n",
    "df_2['Year of operation'] = df_2['Year of operation'] + 1900\n",
    "df_2.tail(3)"
   ]
  },
  {
   "cell_type": "code",
   "execution_count": 40,
   "metadata": {},
   "outputs": [
    {
     "data": {
      "text/plain": [
       "(289, 4)"
      ]
     },
     "execution_count": 40,
     "metadata": {},
     "output_type": "execute_result"
    }
   ],
   "source": [
    "## Removing duplicate rows (if any) from the dataset\n",
    "\n",
    "hm_df = df_2.drop_duplicates(keep = 'first')\n",
    "hm_df.shape"
   ]
  },
  {
   "cell_type": "code",
   "execution_count": 41,
   "metadata": {},
   "outputs": [
    {
     "data": {
      "text/html": [
       "<div>\n",
       "<style scoped>\n",
       "    .dataframe tbody tr th:only-of-type {\n",
       "        vertical-align: middle;\n",
       "    }\n",
       "\n",
       "    .dataframe tbody tr th {\n",
       "        vertical-align: top;\n",
       "    }\n",
       "\n",
       "    .dataframe thead th {\n",
       "        text-align: right;\n",
       "    }\n",
       "</style>\n",
       "<table border=\"1\" class=\"dataframe\">\n",
       "  <thead>\n",
       "    <tr style=\"text-align: right;\">\n",
       "      <th></th>\n",
       "      <th>Age</th>\n",
       "      <th>Year of operation</th>\n",
       "      <th>Number of positive axillary nodes detected</th>\n",
       "      <th>Survival status</th>\n",
       "    </tr>\n",
       "  </thead>\n",
       "  <tbody>\n",
       "    <tr>\n",
       "      <th>count</th>\n",
       "      <td>289.000000</td>\n",
       "      <td>289.000000</td>\n",
       "      <td>289.000000</td>\n",
       "      <td>289.000000</td>\n",
       "    </tr>\n",
       "    <tr>\n",
       "      <th>mean</th>\n",
       "      <td>52.422145</td>\n",
       "      <td>1962.906574</td>\n",
       "      <td>4.221453</td>\n",
       "      <td>1.273356</td>\n",
       "    </tr>\n",
       "    <tr>\n",
       "      <th>std</th>\n",
       "      <td>10.876915</td>\n",
       "      <td>3.275794</td>\n",
       "      <td>7.325239</td>\n",
       "      <td>0.446455</td>\n",
       "    </tr>\n",
       "    <tr>\n",
       "      <th>min</th>\n",
       "      <td>30.000000</td>\n",
       "      <td>1958.000000</td>\n",
       "      <td>0.000000</td>\n",
       "      <td>1.000000</td>\n",
       "    </tr>\n",
       "    <tr>\n",
       "      <th>25%</th>\n",
       "      <td>44.000000</td>\n",
       "      <td>1960.000000</td>\n",
       "      <td>0.000000</td>\n",
       "      <td>1.000000</td>\n",
       "    </tr>\n",
       "    <tr>\n",
       "      <th>50%</th>\n",
       "      <td>52.000000</td>\n",
       "      <td>1963.000000</td>\n",
       "      <td>1.000000</td>\n",
       "      <td>1.000000</td>\n",
       "    </tr>\n",
       "    <tr>\n",
       "      <th>75%</th>\n",
       "      <td>60.000000</td>\n",
       "      <td>1966.000000</td>\n",
       "      <td>5.000000</td>\n",
       "      <td>2.000000</td>\n",
       "    </tr>\n",
       "    <tr>\n",
       "      <th>max</th>\n",
       "      <td>83.000000</td>\n",
       "      <td>1969.000000</td>\n",
       "      <td>52.000000</td>\n",
       "      <td>2.000000</td>\n",
       "    </tr>\n",
       "  </tbody>\n",
       "</table>\n",
       "</div>"
      ],
      "text/plain": [
       "              Age  Year of operation  \\\n",
       "count  289.000000         289.000000   \n",
       "mean    52.422145        1962.906574   \n",
       "std     10.876915           3.275794   \n",
       "min     30.000000        1958.000000   \n",
       "25%     44.000000        1960.000000   \n",
       "50%     52.000000        1963.000000   \n",
       "75%     60.000000        1966.000000   \n",
       "max     83.000000        1969.000000   \n",
       "\n",
       "       Number of positive axillary nodes detected  Survival status  \n",
       "count                                  289.000000       289.000000  \n",
       "mean                                     4.221453         1.273356  \n",
       "std                                      7.325239         0.446455  \n",
       "min                                      0.000000         1.000000  \n",
       "25%                                      0.000000         1.000000  \n",
       "50%                                      1.000000         1.000000  \n",
       "75%                                      5.000000         2.000000  \n",
       "max                                     52.000000         2.000000  "
      ]
     },
     "execution_count": 41,
     "metadata": {},
     "output_type": "execute_result"
    }
   ],
   "source": [
    "## Some descriptive statistics\n",
    "\n",
    "hm_df.describe() "
   ]
  },
  {
   "cell_type": "code",
   "execution_count": 42,
   "metadata": {},
   "outputs": [
    {
     "data": {
      "text/plain": [
       "Age                                           49\n",
       "Year of operation                             12\n",
       "Number of positive axillary nodes detected    31\n",
       "Survival status                                2\n",
       "dtype: int64"
      ]
     },
     "execution_count": 42,
     "metadata": {},
     "output_type": "execute_result"
    }
   ],
   "source": [
    "hm_df.nunique()  ## Checking unique values"
   ]
  },
  {
   "cell_type": "code",
   "execution_count": 43,
   "metadata": {},
   "outputs": [
    {
     "data": {
      "text/plain": [
       "1    210\n",
       "2     79\n",
       "Name: Survival status, dtype: int64"
      ]
     },
     "execution_count": 43,
     "metadata": {},
     "output_type": "execute_result"
    }
   ],
   "source": [
    "### Counting each type of 'Survival status' in the dataset\n",
    "\n",
    "hm_df['Survival status'].value_counts()\n",
    "\n",
    "## We can see that in the 'Survival status' column, '1' represents patients survived 5 or more years after operation, whilst\n",
    "# '2' represents patients died within 05 years of operation, 210 and 79 respectively (as collected info. form the given link)."
   ]
  },
  {
   "cell_type": "code",
   "execution_count": 44,
   "metadata": {},
   "outputs": [
    {
     "name": "stderr",
     "output_type": "stream",
     "text": [
      "C:\\ProgramData\\Anaconda3\\lib\\site-packages\\ipykernel_launcher.py:6: SettingWithCopyWarning: \n",
      "A value is trying to be set on a copy of a slice from a DataFrame.\n",
      "Try using .loc[row_indexer,col_indexer] = value instead\n",
      "\n",
      "See the caveats in the documentation: https://pandas.pydata.org/pandas-docs/stable/user_guide/indexing.html#returning-a-view-versus-a-copy\n",
      "  \n"
     ]
    }
   ],
   "source": [
    "### Replacing with Binary number-\n",
    "\n",
    "## We replace all the \"2\" by \"0\", since we need only 0 and 1 (binary format) as dependent variables, \n",
    "# otherwise we'll get an error message with 'statsmodels' library.\n",
    "\n",
    "hm_df['Survival status'] = hm_df['Survival status'].replace(2, 0)\n",
    "\n",
    "## Therefore now, '0' denotes patients died within 05 years of operation (total 79), and\n",
    "# '1' denotes patients survived 5 or more years after operation (total 210)"
   ]
  },
  {
   "cell_type": "code",
   "execution_count": 45,
   "metadata": {},
   "outputs": [],
   "source": [
    "### Logistic regression modeling\n",
    "\n",
    "## Separate predictors and target variable \n",
    "\n",
    "hm_x = hm_df[['Age', 'Year of operation', 'Number of positive axillary nodes detected']]\n",
    "hm_y = hm_df['Survival status']\n",
    "\n",
    "## Data Split: Deviding the data into asked proportion: training (70 %) and test set (30 %) using 'random_state = 0' method\n",
    "\n",
    "hm_x_train, hm_x_test, hm_y_train, hm_y_test = train_test_split(hm_x, hm_y, test_size = 0.3, random_state = 0)"
   ]
  },
  {
   "cell_type": "code",
   "execution_count": 46,
   "metadata": {},
   "outputs": [
    {
     "name": "stdout",
     "output_type": "stream",
     "text": [
      "(289, 3) (289,)\n",
      "(202, 3) (87, 3)\n",
      "(202,) (87,)\n"
     ]
    }
   ],
   "source": [
    "## Checking the shape of splitted items\n",
    "\n",
    "print(hm_x.shape, hm_y.shape)\n",
    "print(hm_x_train.shape, hm_x_test.shape)\n",
    "print(hm_y_train.shape, hm_y_test.shape)"
   ]
  },
  {
   "cell_type": "code",
   "execution_count": 47,
   "metadata": {},
   "outputs": [],
   "source": [
    "### Building the Logistic Model-\n",
    "\n",
    "## Defining the Logistic Model\n",
    "\n",
    "hm_model = LogisticRegression(solver = 'lbfgs')"
   ]
  },
  {
   "cell_type": "code",
   "execution_count": 48,
   "metadata": {},
   "outputs": [
    {
     "data": {
      "text/plain": [
       "LogisticRegression(C=1.0, class_weight=None, dual=False, fit_intercept=True,\n",
       "                   intercept_scaling=1, l1_ratio=None, max_iter=100,\n",
       "                   multi_class='auto', n_jobs=None, penalty='l2',\n",
       "                   random_state=None, solver='lbfgs', tol=0.0001, verbose=0,\n",
       "                   warm_start=False)"
      ]
     },
     "execution_count": 48,
     "metadata": {},
     "output_type": "execute_result"
    }
   ],
   "source": [
    "## Now we will train the model usig 'fit' method on the training set \n",
    "\n",
    "hm_model.fit(hm_x_train, hm_y_train)"
   ]
  },
  {
   "cell_type": "code",
   "execution_count": 49,
   "metadata": {},
   "outputs": [
    {
     "data": {
      "text/plain": [
       "array([1, 1, 1, 1, 1], dtype=int64)"
      ]
     },
     "execution_count": 49,
     "metadata": {},
     "output_type": "execute_result"
    }
   ],
   "source": [
    "### Applying the model (Prediction)\n",
    "\n",
    "## Once we trained our model, now we can make predictions for test set\n",
    "\n",
    "hm_y_pred = hm_model.predict(hm_x_test)\n",
    "hm_y_pred[:5]"
   ]
  },
  {
   "cell_type": "code",
   "execution_count": 50,
   "metadata": {},
   "outputs": [
    {
     "name": "stdout",
     "output_type": "stream",
     "text": [
      "58     1\n",
      "191    0\n",
      "97     0\n",
      "220    1\n",
      "278    1\n",
      "Name: Survival status, dtype: int64\n",
      "0    1\n",
      "1    1\n",
      "2    1\n",
      "3    1\n",
      "4    1\n",
      "dtype: int32\n"
     ]
    }
   ],
   "source": [
    "### Now we will see what the result looks like compared to the original\n",
    "\n",
    "print(hm_y_test[:5])\n",
    "                       ## Here,'hm_y_test' is the actual value and 'hm_y_pred' is the perdicted value.\n",
    "    \n",
    "print(pd.Series(hm_y_pred[:5]).astype('int'))   ## To get the values in integar format, as by defalut it is an np array."
   ]
  },
  {
   "cell_type": "code",
   "execution_count": 51,
   "metadata": {},
   "outputs": [
    {
     "name": "stdout",
     "output_type": "stream",
     "text": [
      "[[0.22050916 0.77949084]\n",
      " [0.26057178 0.73942822]\n",
      " [0.18263433 0.81736567]\n",
      " [0.22563816 0.77436184]\n",
      " [0.25813635 0.74186365]]\n"
     ]
    }
   ],
   "source": [
    "## Probability testing in our Logistic Regression model \n",
    "\n",
    "print(hm_model.predict_proba(hm_x_test)[:5])\n",
    "         ## This shows one calss vs other class: Probability of Surviving vs Probability of Not Surviving in this case."
   ]
  },
  {
   "cell_type": "code",
   "execution_count": 52,
   "metadata": {},
   "outputs": [
    {
     "name": "stdout",
     "output_type": "stream",
     "text": [
      "Optimization terminated successfully.\n",
      "         Current function value: 0.545651\n",
      "         Iterations 5\n",
      "[1, 1, 1, 1, 1, 1, 1, 1, 1, 1, 1, 1, 1, 1, 1, 1, 0, 1, 1, 1, 1, 1, 1, 1, 1, 1, 1, 1, 1, 1, 1, 1, 1, 1, 1, 0, 1, 1, 1, 1, 1, 1, 1, 1, 0, 1, 1, 1, 1, 1, 0, 1, 1, 1, 1, 1, 1, 1, 1, 1, 0, 1, 1, 1, 1, 1, 1, 1, 0, 0, 0, 1, 1, 1, 1, 1, 1, 1, 1, 1, 1, 1, 0, 1, 1, 1, 1]\n",
      "                           Logit Regression Results                           \n",
      "==============================================================================\n",
      "Dep. Variable:        Survival status   No. Observations:                  202\n",
      "Model:                          Logit   Df Residuals:                      199\n",
      "Method:                           MLE   Df Model:                            2\n",
      "Date:                Sun, 11 Apr 2021   Pseudo R-squ.:                 0.06016\n",
      "Time:                        23:49:43   Log-Likelihood:                -110.22\n",
      "converged:                       True   LL-Null:                       -117.28\n",
      "Covariance Type:            nonrobust   LLR p-value:                 0.0008623\n",
      "==============================================================================================================\n",
      "                                                 coef    std err          z      P>|z|      [0.025      0.975]\n",
      "--------------------------------------------------------------------------------------------------------------\n",
      "Age                                           -0.0224      0.016     -1.428      0.153      -0.053       0.008\n",
      "Year of operation                              0.0013      0.000      2.944      0.003       0.000       0.002\n",
      "Number of positive axillary nodes detected    -0.0866      0.025     -3.428      0.001      -0.136      -0.037\n",
      "==============================================================================================================\n"
     ]
    }
   ],
   "source": [
    "### Alternatively, we can also use statsmodels library to build the same model (it helps get the results of statistical tests)\n",
    "\n",
    "\n",
    "hm_logit_model = sm.Logit(hm_y_train, hm_x_train)   ## Defining the model with the outcome and predicor variables\n",
    "\n",
    "hm_est_fit = hm_logit_model.fit()    ## Fitting the model on the training set\n",
    "           \n",
    "hm_st_pred = hm_est_fit.predict(hm_x_test)  ## Performing predictions on the test set\n",
    "\n",
    "hm_st_pred_list = list(map(round, hm_st_pred))  \n",
    "                       ## This helps get the result in round format, which we also might need in accuracy or other examination\n",
    "\n",
    "print(hm_st_pred_list)  ## Printing the result \n",
    "\n",
    "print(hm_est_fit.summary())  ## Printing the summary"
   ]
  },
  {
   "cell_type": "code",
   "execution_count": 53,
   "metadata": {},
   "outputs": [],
   "source": [
    "###### For your Eyes, sir! \n",
    "\n",
    "### I found the following method of printing gave me completely different prediction-\n",
    "\n",
    "# print(pd.Series(hm_st_pred[:5]).astype('int'))  \n",
    "                                                ####### Is this a shortcoming of binary formatting and/or rounding ?\n",
    "\n",
    "# hm_st_pred[:5]"
   ]
  },
  {
   "cell_type": "code",
   "execution_count": null,
   "metadata": {},
   "outputs": [],
   "source": []
  },
  {
   "cell_type": "markdown",
   "metadata": {},
   "source": [
    "#### • Create the confusion matrix, calculate classification performance measures, and check the accuracy for the test set."
   ]
  },
  {
   "cell_type": "code",
   "execution_count": 54,
   "metadata": {},
   "outputs": [
    {
     "name": "stdout",
     "output_type": "stream",
     "text": [
      "[[ 6 19]\n",
      " [ 3 59]] \n",
      "\n",
      "Patients died within 05 years of operation AND Correctly classified: 6\n",
      "Patients died within 05 years of operation BUT Wrongly classified: 19 \n",
      "\n",
      "Patients survived 5 or more years after operation BUT Wrongly classified: 3\n",
      "Patients survived 5 or more years after operation AND Correctly classified: 59\n"
     ]
    }
   ],
   "source": [
    "### Model evaluation: Creating the Confusion Matrix\n",
    "\n",
    "## To assess the qulity of the model, we can analyze the following confusion matrix-\n",
    "\n",
    "hm_matrix = confusion_matrix(hm_y_test, hm_y_pred)\n",
    "hm_mat1 = pd.DataFrame(np.array(hm_matrix))   ## Converting array into DF\n",
    "\n",
    "print(hm_matrix, '\\n')  ## Printint the matrix\n",
    "\n",
    "print('Patients died within 05 years of operation AND Correctly classified:', hm_mat1.iloc[0, 0])\n",
    "print('Patients died within 05 years of operation BUT Wrongly classified:', hm_mat1.iloc[0, 1], '\\n')\n",
    "print('Patients survived 5 or more years after operation BUT Wrongly classified:', hm_mat1.iloc[1, 0])\n",
    "print('Patients survived 5 or more years after operation AND Correctly classified:', hm_mat1.iloc[1, 1])"
   ]
  },
  {
   "cell_type": "code",
   "execution_count": 55,
   "metadata": {},
   "outputs": [
    {
     "name": "stdout",
     "output_type": "stream",
     "text": [
      "accuracy: 0.75\n"
     ]
    }
   ],
   "source": [
    "## We can check the accuracy rate of the prediction\n",
    "\n",
    "print('accuracy:','%.2f'% ((6 + 59) / (6 + 19 + 3 + 59)))   ## ('Total Correctly Classified / Total Classified')"
   ]
  },
  {
   "cell_type": "code",
   "execution_count": 56,
   "metadata": {},
   "outputs": [
    {
     "name": "stdout",
     "output_type": "stream",
     "text": [
      "              precision    recall  f1-score   support\n",
      "\n",
      "           0       0.67      0.24      0.35        25\n",
      "           1       0.76      0.95      0.84        62\n",
      "\n",
      "    accuracy                           0.75        87\n",
      "   macro avg       0.71      0.60      0.60        87\n",
      "weighted avg       0.73      0.75      0.70        87\n",
      "\n"
     ]
    }
   ],
   "source": [
    "### We can aslo verify this use the following useful function (This also helps calculate differet measures)-\n",
    "\n",
    "hm_report = classification_report(hm_y_test, hm_y_pred)\n",
    "\n",
    "print(hm_report)   ## Here, we use print option to have a better view of the output"
   ]
  },
  {
   "cell_type": "code",
   "execution_count": 57,
   "metadata": {},
   "outputs": [
    {
     "data": {
      "text/plain": [
       "0.7369458128078817"
      ]
     },
     "execution_count": 57,
     "metadata": {},
     "output_type": "execute_result"
    }
   ],
   "source": [
    "### Additional Evaluation of the model\n",
    "\n",
    "### Scores with Cross validation\n",
    "\n",
    "hm_scores = cross_val_score(hm_model, hm_x, hm_y, cv = 10, scoring = 'accuracy')\n",
    "\n",
    "hm_scores.mean()    ## Our model performance should be as close as to this Cross Validated Score Mean."
   ]
  },
  {
   "cell_type": "code",
   "execution_count": 58,
   "metadata": {},
   "outputs": [
    {
     "name": "stdout",
     "output_type": "stream",
     "text": [
      "Training set: 0.7376237623762376\n",
      "Test set: 0.7471264367816092\n"
     ]
    }
   ],
   "source": [
    "## Results for the Training and Test sets \n",
    "\n",
    "print('Training set:', hm_model.score(hm_x_train, hm_y_train))\n",
    "print('Test set:', hm_model.score(hm_x_test, hm_y_test))"
   ]
  },
  {
   "cell_type": "code",
   "execution_count": 59,
   "metadata": {},
   "outputs": [
    {
     "name": "stdout",
     "output_type": "stream",
     "text": [
      "Intercept: [-2.75663309e-06]\n",
      "Slope or Coef: [[-0.022341    0.001299   -0.08657624]]\n"
     ]
    }
   ],
   "source": [
    "## The intercept and slope\n",
    "\n",
    "print('Intercept:', hm_model.intercept_)\n",
    "print('Slope or Coef:', hm_model.coef_)"
   ]
  },
  {
   "cell_type": "code",
   "execution_count": 60,
   "metadata": {},
   "outputs": [
    {
     "name": "stdout",
     "output_type": "stream",
     "text": [
      "mse: 0.25287356321839083\n",
      "coef of determination: -0.23483870967742004\n"
     ]
    }
   ],
   "source": [
    "## The mean square error\n",
    "\n",
    "print('mse:', mean_squared_error(hm_y_test, hm_y_pred))   \n",
    "                                            \n",
    "## And the coefficient of determination (We know that '1' is perfect prediction)\n",
    "\n",
    "print('coef of determination:', r2_score(hm_y_test, hm_y_pred))"
   ]
  },
  {
   "cell_type": "code",
   "execution_count": null,
   "metadata": {},
   "outputs": [],
   "source": []
  },
  {
   "cell_type": "markdown",
   "metadata": {},
   "source": [
    "**• Perform the previous steps but now using only the two variables Age, and Number of positive axillary nodes detected. How did the accuracy of the model on the test set change? Based on this, do you think Year is an important predictor variable?**"
   ]
  },
  {
   "cell_type": "code",
   "execution_count": 61,
   "metadata": {},
   "outputs": [],
   "source": [
    "###  Performing the previous steps using only two variables- 'Age' and 'Number of positive axillary nodes detected'\n",
    "### Logistic regression modeling\n",
    "\n",
    "## Separate predictors and target variable \n",
    "\n",
    "hm_x_2 = hm_df[['Age', 'Number of positive axillary nodes detected']]\n",
    "hm_y_2 = hm_df['Survival status']\n",
    "\n",
    "## Data Split: Deviding the data into asked proportion: training (70 %) and test set (30 %) using 'random_state = 0' method\n",
    "\n",
    "hm_x_train_2, hm_x_test_2, hm_y_train_2, hm_y_test_2 = train_test_split(hm_x_2, hm_y_2, test_size = 0.3, random_state = 0)"
   ]
  },
  {
   "cell_type": "code",
   "execution_count": 62,
   "metadata": {},
   "outputs": [
    {
     "name": "stdout",
     "output_type": "stream",
     "text": [
      "(289, 2) (289,)\n",
      "(202, 2) (87, 2)\n",
      "(202,) (87,)\n"
     ]
    }
   ],
   "source": [
    "## Checking the shape of splitted items\n",
    "\n",
    "print(hm_x_2.shape, hm_y_2.shape)\n",
    "print(hm_x_train_2.shape, hm_x_test_2.shape)\n",
    "print(hm_y_train_2.shape, hm_y_test_2.shape)"
   ]
  },
  {
   "cell_type": "code",
   "execution_count": 63,
   "metadata": {},
   "outputs": [],
   "source": [
    "### Building the Logistic Model-\n",
    "\n",
    "## Defining the Logistic Model\n",
    "\n",
    "hm_model_2 = LogisticRegression(solver = 'lbfgs')"
   ]
  },
  {
   "cell_type": "code",
   "execution_count": 64,
   "metadata": {},
   "outputs": [
    {
     "data": {
      "text/plain": [
       "LogisticRegression(C=1.0, class_weight=None, dual=False, fit_intercept=True,\n",
       "                   intercept_scaling=1, l1_ratio=None, max_iter=100,\n",
       "                   multi_class='auto', n_jobs=None, penalty='l2',\n",
       "                   random_state=None, solver='lbfgs', tol=0.0001, verbose=0,\n",
       "                   warm_start=False)"
      ]
     },
     "execution_count": 64,
     "metadata": {},
     "output_type": "execute_result"
    }
   ],
   "source": [
    "## Now we will train the model usig 'fit' method on the training set \n",
    "\n",
    "hm_model_2.fit(hm_x_train_2, hm_y_train_2)"
   ]
  },
  {
   "cell_type": "code",
   "execution_count": 65,
   "metadata": {},
   "outputs": [],
   "source": [
    "### Applying the model (Prediction)\n",
    "\n",
    "## Once we trained our model, now we can make predictions for test set\n",
    "\n",
    "hm_y_pred_2 = hm_model_2.predict(hm_x_test_2)"
   ]
  },
  {
   "cell_type": "code",
   "execution_count": 66,
   "metadata": {},
   "outputs": [
    {
     "name": "stdout",
     "output_type": "stream",
     "text": [
      "58     1\n",
      "191    0\n",
      "97     0\n",
      "220    1\n",
      "278    1\n",
      "Name: Survival status, dtype: int64\n",
      "0    1\n",
      "1    1\n",
      "2    1\n",
      "3    1\n",
      "4    1\n",
      "dtype: int32\n"
     ]
    }
   ],
   "source": [
    "### Now we will see what the result looks like compared to the original\n",
    "\n",
    "print(hm_y_test_2[:5])\n",
    "                       ## Here,'hm_y_test_2' is the actual value and 'hm_y_pred_2' is the perdicted value.\n",
    "    \n",
    "print(pd.Series(hm_y_pred_2[:5]).astype('int'))   ## To get the values in integar format, as by defalut it is an np array."
   ]
  },
  {
   "cell_type": "code",
   "execution_count": 67,
   "metadata": {},
   "outputs": [
    {
     "data": {
      "text/plain": [
       "array([[ 6, 19],\n",
       "       [ 3, 59]], dtype=int64)"
      ]
     },
     "execution_count": 67,
     "metadata": {},
     "output_type": "execute_result"
    }
   ],
   "source": [
    "### Model evaluation: Creating the Confusion Matrix\n",
    "\n",
    "## To assess the qulity of the model, we can analyze the following confusion matrix-\n",
    "\n",
    "hm_matrix_2 = confusion_matrix(hm_y_test_2, hm_y_pred_2)\n",
    "hm_matrix_2"
   ]
  },
  {
   "cell_type": "code",
   "execution_count": 68,
   "metadata": {},
   "outputs": [
    {
     "name": "stdout",
     "output_type": "stream",
     "text": [
      "accuracy: 0.75\n"
     ]
    }
   ],
   "source": [
    "## We can check the accuracy rate of the prediction\n",
    "\n",
    "print('accuracy:','%.2f'% ((6 + 59) / (6 + 19 + 3 + 59)))   ## ('Total Correctly Classified / Total Classified')"
   ]
  },
  {
   "cell_type": "code",
   "execution_count": 69,
   "metadata": {},
   "outputs": [
    {
     "name": "stdout",
     "output_type": "stream",
     "text": [
      "              precision    recall  f1-score   support\n",
      "\n",
      "           0       0.67      0.24      0.35        25\n",
      "           1       0.76      0.95      0.84        62\n",
      "\n",
      "    accuracy                           0.75        87\n",
      "   macro avg       0.71      0.60      0.60        87\n",
      "weighted avg       0.73      0.75      0.70        87\n",
      "\n"
     ]
    }
   ],
   "source": [
    "### We can aslo verify this using the following useful function (This also helps calculate differet measures)-\n",
    "\n",
    "hm_report_2 = classification_report(hm_y_test_2, hm_y_pred_2)\n",
    "\n",
    "print(hm_report_2)   ## Here, we use print option to have a better view of the output"
   ]
  },
  {
   "cell_type": "code",
   "execution_count": 70,
   "metadata": {},
   "outputs": [
    {
     "data": {
      "text/plain": [
       "<matplotlib.axes._subplots.AxesSubplot at 0x21d5ecafa48>"
      ]
     },
     "execution_count": 70,
     "metadata": {},
     "output_type": "execute_result"
    },
    {
     "data": {
      "image/png": "[encoded data removed]",
      "text/plain": [
       "<Figure size 432x288 with 1 Axes>"
      ]
     },
     "metadata": {
      "needs_background": "light"
     },
     "output_type": "display_data"
    }
   ],
   "source": [
    "### Visualization with the main data info.\n",
    "\n",
    "## We can also have a look with the main data information how 'Year of operation' is related to the 'Survival status'\n",
    "\n",
    "sns.boxplot(x = 'Survival status', y = 'Year of operation', data = hm_df)"
   ]
  },
  {
   "cell_type": "markdown",
   "metadata": {},
   "source": [
    "**Comments:-** Comparing the models (with and without the variable- 'Year of operation') \n",
    "\n",
    "           We observed that, both times we got the same result. That means, the variable 'Year of operation' does not affect\n",
    "           our Logistic Regression model. Therefore, it is not an important variable in this case."
   ]
  },
  {
   "cell_type": "code",
   "execution_count": null,
   "metadata": {},
   "outputs": [],
   "source": []
  },
  {
   "cell_type": "markdown",
   "metadata": {},
   "source": [
    "### Answer to the Question No: 03\n",
    "\n",
    "*(recommendation.csv)*\n",
    "\n",
    "\n",
    "**3. (15 points) In this exercise, you have to work with a data of customers, who bought one of two possible\n",
    "products. Your task is to consider this as a classification problem and build a model that will predict\n",
    "which one of the two products a customer would buy using the available data (i.e. which product should\n",
    "the company recommend to a new customer).**"
   ]
  },
  {
   "cell_type": "code",
   "execution_count": 71,
   "metadata": {},
   "outputs": [
    {
     "data": {
      "text/html": [
       "<div>\n",
       "<style scoped>\n",
       "    .dataframe tbody tr th:only-of-type {\n",
       "        vertical-align: middle;\n",
       "    }\n",
       "\n",
       "    .dataframe tbody tr th {\n",
       "        vertical-align: top;\n",
       "    }\n",
       "\n",
       "    .dataframe thead th {\n",
       "        text-align: right;\n",
       "    }\n",
       "</style>\n",
       "<table border=\"1\" class=\"dataframe\">\n",
       "  <thead>\n",
       "    <tr style=\"text-align: right;\">\n",
       "      <th></th>\n",
       "      <th>gender</th>\n",
       "      <th>age</th>\n",
       "      <th>edu</th>\n",
       "      <th>salary</th>\n",
       "      <th>previous.orders</th>\n",
       "      <th>previous.purchase</th>\n",
       "      <th>favourite.genre</th>\n",
       "      <th>recommendation</th>\n",
       "    </tr>\n",
       "  </thead>\n",
       "  <tbody>\n",
       "    <tr>\n",
       "      <th>487</th>\n",
       "      <td>Female</td>\n",
       "      <td>47</td>\n",
       "      <td>University</td>\n",
       "      <td>4187</td>\n",
       "      <td>34</td>\n",
       "      <td>1700.16</td>\n",
       "      <td>Comic</td>\n",
       "      <td>1</td>\n",
       "    </tr>\n",
       "    <tr>\n",
       "      <th>488</th>\n",
       "      <td>Male</td>\n",
       "      <td>38</td>\n",
       "      <td>University</td>\n",
       "      <td>3645</td>\n",
       "      <td>30</td>\n",
       "      <td>935.48</td>\n",
       "      <td>Drama</td>\n",
       "      <td>2</td>\n",
       "    </tr>\n",
       "    <tr>\n",
       "      <th>489</th>\n",
       "      <td>Male</td>\n",
       "      <td>53</td>\n",
       "      <td>High School</td>\n",
       "      <td>3525</td>\n",
       "      <td>9</td>\n",
       "      <td>386.40</td>\n",
       "      <td>Drama</td>\n",
       "      <td>2</td>\n",
       "    </tr>\n",
       "  </tbody>\n",
       "</table>\n",
       "</div>"
      ],
      "text/plain": [
       "     gender  age          edu  salary  previous.orders  previous.purchase  \\\n",
       "487  Female   47   University    4187               34            1700.16   \n",
       "488    Male   38   University    3645               30             935.48   \n",
       "489    Male   53  High School    3525                9             386.40   \n",
       "\n",
       "    favourite.genre  recommendation  \n",
       "487           Comic               1  \n",
       "488           Drama               2  \n",
       "489           Drama               2  "
      ]
     },
     "execution_count": 71,
     "metadata": {},
     "output_type": "execute_result"
    }
   ],
   "source": [
    "## Reading the given 'recommendation.csv' file\n",
    "\n",
    "df_3 = pd.read_csv('recommendation.csv', sep = ',', header = 0)\n",
    "df_3.tail(3)"
   ]
  },
  {
   "cell_type": "code",
   "execution_count": 72,
   "metadata": {},
   "outputs": [
    {
     "name": "stdout",
     "output_type": "stream",
     "text": [
      "<class 'pandas.core.frame.DataFrame'>\n",
      "RangeIndex: 490 entries, 0 to 489\n",
      "Data columns (total 8 columns):\n",
      " #   Column             Non-Null Count  Dtype  \n",
      "---  ------             --------------  -----  \n",
      " 0   gender             490 non-null    object \n",
      " 1   age                490 non-null    int64  \n",
      " 2   edu                490 non-null    object \n",
      " 3   salary             490 non-null    int64  \n",
      " 4   previous.orders    490 non-null    int64  \n",
      " 5   previous.purchase  490 non-null    float64\n",
      " 6   favourite.genre    490 non-null    object \n",
      " 7   recommendation     490 non-null    int64  \n",
      "dtypes: float64(1), int64(4), object(3)\n",
      "memory usage: 30.8+ KB\n"
     ]
    }
   ],
   "source": [
    "### Understanding the data, Data Prepearation and EDA\n",
    "\n",
    "## Following we can have a look from multi dimentional agnle to the dataset, \n",
    "# such as- numbers of data entries, null values (if any), datatypes.\n",
    "\n",
    "df_3.info()"
   ]
  },
  {
   "cell_type": "code",
   "execution_count": 73,
   "metadata": {},
   "outputs": [
    {
     "data": {
      "text/plain": [
       "(490, 8)"
      ]
     },
     "execution_count": 73,
     "metadata": {},
     "output_type": "execute_result"
    }
   ],
   "source": [
    "## Removing duplicate rows (if any) from the dataset\n",
    "\n",
    "rec_df = df_3.drop_duplicates(keep = 'first')\n",
    "rec_df.shape"
   ]
  },
  {
   "cell_type": "code",
   "execution_count": 74,
   "metadata": {},
   "outputs": [
    {
     "data": {
      "text/html": [
       "<div>\n",
       "<style scoped>\n",
       "    .dataframe tbody tr th:only-of-type {\n",
       "        vertical-align: middle;\n",
       "    }\n",
       "\n",
       "    .dataframe tbody tr th {\n",
       "        vertical-align: top;\n",
       "    }\n",
       "\n",
       "    .dataframe thead th {\n",
       "        text-align: right;\n",
       "    }\n",
       "</style>\n",
       "<table border=\"1\" class=\"dataframe\">\n",
       "  <thead>\n",
       "    <tr style=\"text-align: right;\">\n",
       "      <th></th>\n",
       "      <th>age</th>\n",
       "      <th>salary</th>\n",
       "      <th>previous.orders</th>\n",
       "      <th>previous.purchase</th>\n",
       "      <th>recommendation</th>\n",
       "    </tr>\n",
       "  </thead>\n",
       "  <tbody>\n",
       "    <tr>\n",
       "      <th>count</th>\n",
       "      <td>490.000000</td>\n",
       "      <td>490.000000</td>\n",
       "      <td>490.000000</td>\n",
       "      <td>490.000000</td>\n",
       "      <td>490.000000</td>\n",
       "    </tr>\n",
       "    <tr>\n",
       "      <th>mean</th>\n",
       "      <td>38.969388</td>\n",
       "      <td>3023.759184</td>\n",
       "      <td>22.797959</td>\n",
       "      <td>906.376265</td>\n",
       "      <td>1.808163</td>\n",
       "    </tr>\n",
       "    <tr>\n",
       "      <th>std</th>\n",
       "      <td>11.448876</td>\n",
       "      <td>1145.947421</td>\n",
       "      <td>14.142931</td>\n",
       "      <td>626.881628</td>\n",
       "      <td>0.394148</td>\n",
       "    </tr>\n",
       "    <tr>\n",
       "      <th>min</th>\n",
       "      <td>20.000000</td>\n",
       "      <td>1013.000000</td>\n",
       "      <td>0.000000</td>\n",
       "      <td>0.000000</td>\n",
       "      <td>1.000000</td>\n",
       "    </tr>\n",
       "    <tr>\n",
       "      <th>25%</th>\n",
       "      <td>30.000000</td>\n",
       "      <td>2073.750000</td>\n",
       "      <td>11.250000</td>\n",
       "      <td>407.980000</td>\n",
       "      <td>2.000000</td>\n",
       "    </tr>\n",
       "    <tr>\n",
       "      <th>50%</th>\n",
       "      <td>39.000000</td>\n",
       "      <td>2975.000000</td>\n",
       "      <td>21.000000</td>\n",
       "      <td>798.125000</td>\n",
       "      <td>2.000000</td>\n",
       "    </tr>\n",
       "    <tr>\n",
       "      <th>75%</th>\n",
       "      <td>49.000000</td>\n",
       "      <td>4009.750000</td>\n",
       "      <td>35.000000</td>\n",
       "      <td>1337.630000</td>\n",
       "      <td>2.000000</td>\n",
       "    </tr>\n",
       "    <tr>\n",
       "      <th>max</th>\n",
       "      <td>59.000000</td>\n",
       "      <td>4999.000000</td>\n",
       "      <td>49.000000</td>\n",
       "      <td>3287.190000</td>\n",
       "      <td>2.000000</td>\n",
       "    </tr>\n",
       "  </tbody>\n",
       "</table>\n",
       "</div>"
      ],
      "text/plain": [
       "              age       salary  previous.orders  previous.purchase  \\\n",
       "count  490.000000   490.000000       490.000000         490.000000   \n",
       "mean    38.969388  3023.759184        22.797959         906.376265   \n",
       "std     11.448876  1145.947421        14.142931         626.881628   \n",
       "min     20.000000  1013.000000         0.000000           0.000000   \n",
       "25%     30.000000  2073.750000        11.250000         407.980000   \n",
       "50%     39.000000  2975.000000        21.000000         798.125000   \n",
       "75%     49.000000  4009.750000        35.000000        1337.630000   \n",
       "max     59.000000  4999.000000        49.000000        3287.190000   \n",
       "\n",
       "       recommendation  \n",
       "count      490.000000  \n",
       "mean         1.808163  \n",
       "std          0.394148  \n",
       "min          1.000000  \n",
       "25%          2.000000  \n",
       "50%          2.000000  \n",
       "75%          2.000000  \n",
       "max          2.000000  "
      ]
     },
     "execution_count": 74,
     "metadata": {},
     "output_type": "execute_result"
    }
   ],
   "source": [
    "## Some descriptive statistics\n",
    "\n",
    "rec_df.describe()"
   ]
  },
  {
   "cell_type": "code",
   "execution_count": 75,
   "metadata": {},
   "outputs": [
    {
     "data": {
      "text/plain": [
       "gender                 2\n",
       "age                   40\n",
       "edu                    3\n",
       "salary               474\n",
       "previous.orders       50\n",
       "previous.purchase    481\n",
       "favourite.genre        6\n",
       "recommendation         2\n",
       "dtype: int64"
      ]
     },
     "execution_count": 75,
     "metadata": {},
     "output_type": "execute_result"
    }
   ],
   "source": [
    "rec_df.nunique()  ## Checking unique values"
   ]
  },
  {
   "cell_type": "code",
   "execution_count": 76,
   "metadata": {},
   "outputs": [
    {
     "data": {
      "text/plain": [
       "2    396\n",
       "1     94\n",
       "Name: recommendation, dtype: int64"
      ]
     },
     "execution_count": 76,
     "metadata": {},
     "output_type": "execute_result"
    }
   ],
   "source": [
    "### Counting each type of 'Survival status' in the dataset\n",
    "\n",
    "rec_df['recommendation'].value_counts()\n",
    "\n",
    "## We can see that in the 'recommedation' column, '1' represents 'product 1', whilst '2' represents 'product 2'"
   ]
  },
  {
   "cell_type": "code",
   "execution_count": 77,
   "metadata": {},
   "outputs": [
    {
     "data": {
      "text/html": [
       "<div>\n",
       "<style scoped>\n",
       "    .dataframe tbody tr th:only-of-type {\n",
       "        vertical-align: middle;\n",
       "    }\n",
       "\n",
       "    .dataframe tbody tr th {\n",
       "        vertical-align: top;\n",
       "    }\n",
       "\n",
       "    .dataframe thead th {\n",
       "        text-align: right;\n",
       "    }\n",
       "</style>\n",
       "<table border=\"1\" class=\"dataframe\">\n",
       "  <thead>\n",
       "    <tr style=\"text-align: right;\">\n",
       "      <th></th>\n",
       "      <th>gender</th>\n",
       "      <th>age</th>\n",
       "      <th>edu</th>\n",
       "      <th>salary</th>\n",
       "      <th>previous.orders</th>\n",
       "      <th>previous.purchase</th>\n",
       "      <th>favourite.genre</th>\n",
       "      <th>recommendation</th>\n",
       "    </tr>\n",
       "  </thead>\n",
       "  <tbody>\n",
       "    <tr>\n",
       "      <th>487</th>\n",
       "      <td>Female</td>\n",
       "      <td>47</td>\n",
       "      <td>University</td>\n",
       "      <td>4187</td>\n",
       "      <td>34</td>\n",
       "      <td>1700.16</td>\n",
       "      <td>Comic</td>\n",
       "      <td>1</td>\n",
       "    </tr>\n",
       "    <tr>\n",
       "      <th>488</th>\n",
       "      <td>Male</td>\n",
       "      <td>38</td>\n",
       "      <td>University</td>\n",
       "      <td>3645</td>\n",
       "      <td>30</td>\n",
       "      <td>935.48</td>\n",
       "      <td>Drama</td>\n",
       "      <td>0</td>\n",
       "    </tr>\n",
       "    <tr>\n",
       "      <th>489</th>\n",
       "      <td>Male</td>\n",
       "      <td>53</td>\n",
       "      <td>High School</td>\n",
       "      <td>3525</td>\n",
       "      <td>9</td>\n",
       "      <td>386.40</td>\n",
       "      <td>Drama</td>\n",
       "      <td>0</td>\n",
       "    </tr>\n",
       "  </tbody>\n",
       "</table>\n",
       "</div>"
      ],
      "text/plain": [
       "     gender  age          edu  salary  previous.orders  previous.purchase  \\\n",
       "487  Female   47   University    4187               34            1700.16   \n",
       "488    Male   38   University    3645               30             935.48   \n",
       "489    Male   53  High School    3525                9             386.40   \n",
       "\n",
       "    favourite.genre  recommendation  \n",
       "487           Comic               1  \n",
       "488           Drama               0  \n",
       "489           Drama               0  "
      ]
     },
     "execution_count": 77,
     "metadata": {},
     "output_type": "execute_result"
    }
   ],
   "source": [
    "### Replacing with Binary number-\n",
    "\n",
    "## We replace all the \"2\" by \"0\", since we need only 0 and 1 (binary format) as dependent variables, \n",
    "# otherwise we'll get an error message with 'statsmodels' library.\n",
    "\n",
    "rec_df['recommendation'] = rec_df['recommendation'].replace(2, 0)\n",
    "rec_df.tail(3)\n",
    "\n",
    "## Therefore now, '0' denotes 'product 2' (total 396), and '1' denotes 'product 1'(total 94)."
   ]
  },
  {
   "cell_type": "code",
   "execution_count": 78,
   "metadata": {},
   "outputs": [
    {
     "data": {
      "text/plain": [
       "array([[<matplotlib.axes._subplots.AxesSubplot object at 0x0000021D5ED2A4C8>,\n",
       "        <matplotlib.axes._subplots.AxesSubplot object at 0x0000021D5ED49988>],\n",
       "       [<matplotlib.axes._subplots.AxesSubplot object at 0x0000021D5ED80C08>,\n",
       "        <matplotlib.axes._subplots.AxesSubplot object at 0x0000021D5EDBA108>]],\n",
       "      dtype=object)"
      ]
     },
     "execution_count": 78,
     "metadata": {},
     "output_type": "execute_result"
    },
    {
     "data": {
      "image/png": "[encoded data removed]",
      "text/plain": [
       "<Figure size 720x432 with 4 Axes>"
      ]
     },
     "metadata": {
      "needs_background": "light"
     },
     "output_type": "display_data"
    }
   ],
   "source": [
    "### Now we will see some vizualized form of data analysis\n",
    "\n",
    "rec_num = rec_df.select_dtypes('number')\n",
    "rec_num.drop(['recommendation'], axis = 1).hist(figsize=(10, 6))"
   ]
  },
  {
   "cell_type": "code",
   "execution_count": 79,
   "metadata": {},
   "outputs": [
    {
     "data": {
      "text/plain": [
       "<matplotlib.axes._subplots.AxesSubplot at 0x21d5f055ac8>"
      ]
     },
     "execution_count": 79,
     "metadata": {},
     "output_type": "execute_result"
    },
    {
     "data": {
      "image/png": "[encoded data removed]",
      "text/plain": [
       "<Figure size 432x288 with 1 Axes>"
      ]
     },
     "metadata": {
      "needs_background": "light"
     },
     "output_type": "display_data"
    }
   ],
   "source": [
    "sns.distplot(rec_df['salary'])"
   ]
  },
  {
   "cell_type": "code",
   "execution_count": 80,
   "metadata": {},
   "outputs": [
    {
     "data": {
      "text/plain": [
       "<matplotlib.axes._subplots.AxesSubplot at 0x21d5eefcb08>"
      ]
     },
     "execution_count": 80,
     "metadata": {},
     "output_type": "execute_result"
    },
    {
     "data": {
      "image/png": "[encoded data removed]",
      "text/plain": [
       "<Figure size 432x288 with 1 Axes>"
      ]
     },
     "metadata": {
      "needs_background": "light"
     },
     "output_type": "display_data"
    }
   ],
   "source": [
    "sns.distplot(rec_df['age'])"
   ]
  },
  {
   "cell_type": "code",
   "execution_count": 81,
   "metadata": {},
   "outputs": [
    {
     "data": {
      "text/plain": [
       "<matplotlib.axes._subplots.AxesSubplot at 0x21d5ef78448>"
      ]
     },
     "execution_count": 81,
     "metadata": {},
     "output_type": "execute_result"
    },
    {
     "data": {
      "image/png": "[encoded data removed]",
      "text/plain": [
       "<Figure size 432x288 with 1 Axes>"
      ]
     },
     "metadata": {
      "needs_background": "light"
     },
     "output_type": "display_data"
    }
   ],
   "source": [
    "sns.distplot(rec_df['previous.orders'])"
   ]
  },
  {
   "cell_type": "code",
   "execution_count": 82,
   "metadata": {},
   "outputs": [
    {
     "data": {
      "text/plain": [
       "<matplotlib.axes._subplots.AxesSubplot at 0x21d5f00f608>"
      ]
     },
     "execution_count": 82,
     "metadata": {},
     "output_type": "execute_result"
    },
    {
     "data": {
      "image/png": "[encoded data removed]",
      "text/plain": [
       "<Figure size 432x288 with 1 Axes>"
      ]
     },
     "metadata": {
      "needs_background": "light"
     },
     "output_type": "display_data"
    }
   ],
   "source": [
    "sns.distplot(rec_df['previous.purchase'])"
   ]
  },
  {
   "cell_type": "code",
   "execution_count": 83,
   "metadata": {},
   "outputs": [
    {
     "data": {
      "text/plain": [
       "<seaborn.axisgrid.FacetGrid at 0x21d5ef93c08>"
      ]
     },
     "execution_count": 83,
     "metadata": {},
     "output_type": "execute_result"
    },
    {
     "data": {
      "image/png": "[encoded data removed]",
      "text/plain": [
       "<Figure size 360x360 with 1 Axes>"
      ]
     },
     "metadata": {
      "needs_background": "light"
     },
     "output_type": "display_data"
    }
   ],
   "source": [
    "### Relationship analysis.\n",
    "\n",
    "## Plotting relationship of 'recommendation' column with the other variables in the dataset\n",
    "\n",
    "sns.catplot(x = 'recommendation', y = 'salary', data = rec_df, kind = 'box')"
   ]
  },
  {
   "cell_type": "code",
   "execution_count": 84,
   "metadata": {},
   "outputs": [
    {
     "data": {
      "text/plain": [
       "<seaborn.axisgrid.FacetGrid at 0x21d5eed1d48>"
      ]
     },
     "execution_count": 84,
     "metadata": {},
     "output_type": "execute_result"
    },
    {
     "data": {
      "image/png": "[encoded data removed]",
      "text/plain": [
       "<Figure size 360x360 with 1 Axes>"
      ]
     },
     "metadata": {
      "needs_background": "light"
     },
     "output_type": "display_data"
    }
   ],
   "source": [
    "sns.catplot(x = 'recommendation', y = 'age', data = rec_df, palette={0: 'g', 1: 'r'}, kind = 'box')"
   ]
  },
  {
   "cell_type": "code",
   "execution_count": 85,
   "metadata": {},
   "outputs": [
    {
     "data": {
      "text/plain": [
       "<seaborn.axisgrid.FacetGrid at 0x21d6013ca88>"
      ]
     },
     "execution_count": 85,
     "metadata": {},
     "output_type": "execute_result"
    },
    {
     "data": {
      "image/png": "[encoded data removed]",
      "text/plain": [
       "<Figure size 360x360 with 1 Axes>"
      ]
     },
     "metadata": {
      "needs_background": "light"
     },
     "output_type": "display_data"
    }
   ],
   "source": [
    "sns.catplot(x = 'recommendation', y = 'previous.orders', data = rec_df, kind = 'box')"
   ]
  },
  {
   "cell_type": "code",
   "execution_count": 86,
   "metadata": {},
   "outputs": [
    {
     "data": {
      "text/plain": [
       "<seaborn.axisgrid.FacetGrid at 0x21d6027cf48>"
      ]
     },
     "execution_count": 86,
     "metadata": {},
     "output_type": "execute_result"
    },
    {
     "data": {
      "image/png": "[encoded data removed]",
      "text/plain": [
       "<Figure size 360x360 with 1 Axes>"
      ]
     },
     "metadata": {
      "needs_background": "light"
     },
     "output_type": "display_data"
    }
   ],
   "source": [
    "sns.catplot(x = 'recommendation', y = 'previous.purchase', data = rec_df, palette={0: 'm', 1: 'y'}, kind = 'box')"
   ]
  },
  {
   "cell_type": "code",
   "execution_count": 87,
   "metadata": {},
   "outputs": [
    {
     "data": {
      "text/html": [
       "<div>\n",
       "<style scoped>\n",
       "    .dataframe tbody tr th:only-of-type {\n",
       "        vertical-align: middle;\n",
       "    }\n",
       "\n",
       "    .dataframe tbody tr th {\n",
       "        vertical-align: top;\n",
       "    }\n",
       "\n",
       "    .dataframe thead th {\n",
       "        text-align: right;\n",
       "    }\n",
       "</style>\n",
       "<table border=\"1\" class=\"dataframe\">\n",
       "  <thead>\n",
       "    <tr style=\"text-align: right;\">\n",
       "      <th></th>\n",
       "      <th>age</th>\n",
       "      <th>salary</th>\n",
       "      <th>previous.orders</th>\n",
       "      <th>previous.purchase</th>\n",
       "      <th>recommendation</th>\n",
       "    </tr>\n",
       "  </thead>\n",
       "  <tbody>\n",
       "    <tr>\n",
       "      <th>age</th>\n",
       "      <td>1.000000</td>\n",
       "      <td>0.012507</td>\n",
       "      <td>-0.018515</td>\n",
       "      <td>-0.045542</td>\n",
       "      <td>0.064296</td>\n",
       "    </tr>\n",
       "    <tr>\n",
       "      <th>salary</th>\n",
       "      <td>0.012507</td>\n",
       "      <td>1.000000</td>\n",
       "      <td>0.000321</td>\n",
       "      <td>0.003057</td>\n",
       "      <td>0.123099</td>\n",
       "    </tr>\n",
       "    <tr>\n",
       "      <th>previous.orders</th>\n",
       "      <td>-0.018515</td>\n",
       "      <td>0.000321</td>\n",
       "      <td>1.000000</td>\n",
       "      <td>0.893941</td>\n",
       "      <td>0.146005</td>\n",
       "    </tr>\n",
       "    <tr>\n",
       "      <th>previous.purchase</th>\n",
       "      <td>-0.045542</td>\n",
       "      <td>0.003057</td>\n",
       "      <td>0.893941</td>\n",
       "      <td>1.000000</td>\n",
       "      <td>0.109564</td>\n",
       "    </tr>\n",
       "    <tr>\n",
       "      <th>recommendation</th>\n",
       "      <td>0.064296</td>\n",
       "      <td>0.123099</td>\n",
       "      <td>0.146005</td>\n",
       "      <td>0.109564</td>\n",
       "      <td>1.000000</td>\n",
       "    </tr>\n",
       "  </tbody>\n",
       "</table>\n",
       "</div>"
      ],
      "text/plain": [
       "                        age    salary  previous.orders  previous.purchase  \\\n",
       "age                1.000000  0.012507        -0.018515          -0.045542   \n",
       "salary             0.012507  1.000000         0.000321           0.003057   \n",
       "previous.orders   -0.018515  0.000321         1.000000           0.893941   \n",
       "previous.purchase -0.045542  0.003057         0.893941           1.000000   \n",
       "recommendation     0.064296  0.123099         0.146005           0.109564   \n",
       "\n",
       "                   recommendation  \n",
       "age                      0.064296  \n",
       "salary                   0.123099  \n",
       "previous.orders          0.146005  \n",
       "previous.purchase        0.109564  \n",
       "recommendation           1.000000  "
      ]
     },
     "execution_count": 87,
     "metadata": {},
     "output_type": "execute_result"
    }
   ],
   "source": [
    "## Correaltion matrix\n",
    "\n",
    "rec_corr = rec_df.corr()\n",
    "rec_corr"
   ]
  },
  {
   "cell_type": "code",
   "execution_count": 88,
   "metadata": {},
   "outputs": [
    {
     "data": {
      "text/plain": [
       "<matplotlib.axes._subplots.AxesSubplot at 0x21d60312088>"
      ]
     },
     "execution_count": 88,
     "metadata": {},
     "output_type": "execute_result"
    },
    {
     "data": {
      "image/png": "[encoded data removed]",
      "text/plain": [
       "<Figure size 432x288 with 2 Axes>"
      ]
     },
     "metadata": {
      "needs_background": "light"
     },
     "output_type": "display_data"
    }
   ],
   "source": [
    "### Plotting correlation: As our target varaible is 'recommendation', we will consider its correlation with other variables.\n",
    "\n",
    "sns.heatmap(rec_corr[(rec_corr <= -0.05) | (rec_corr >= 0.05)], annot = True, cmap = 'Reds')\n",
    "\n",
    "## We assume that, Correlation Coefficient values greater than (- 0.05) or less than (+ 0.05) are not that significant.\n",
    "\n",
    "## In this heatmap filtering we can see that, the correlations visible for all the variables in relation to our target variable.\n",
    "## Therefore, we will consider all the variables for our Logistic Regression model"
   ]
  },
  {
   "cell_type": "code",
   "execution_count": null,
   "metadata": {},
   "outputs": [],
   "source": []
  },
  {
   "cell_type": "markdown",
   "metadata": {},
   "source": [
    "**Build a logistic regression model to predict the product that is more likely to be purchased by the customer.\n",
    "Regarding the categorical columns, create dummy variables (one-hot encoding) for gender, edu, and\n",
    "favourite.genre to be used in the model.**\n",
    "\n",
    "**First, create a training set and test set, with test size = 0.20\n",
    "(set random state to be 0), and after building a model, evaluate predictions for both the test and training\n",
    "sets. In particular check the difference of accuracy for the training and test; do you see a result that you\n",
    "would expect there?**\n",
    "\n",
    "**Second, perform cross-validation with cv = 5 and scoring = 'accuracy'. What is the\n",
    "minimum and maximum score you observe after building the models?**"
   ]
  },
  {
   "cell_type": "code",
   "execution_count": 89,
   "metadata": {},
   "outputs": [
    {
     "data": {
      "text/html": [
       "<div>\n",
       "<style scoped>\n",
       "    .dataframe tbody tr th:only-of-type {\n",
       "        vertical-align: middle;\n",
       "    }\n",
       "\n",
       "    .dataframe tbody tr th {\n",
       "        vertical-align: top;\n",
       "    }\n",
       "\n",
       "    .dataframe thead th {\n",
       "        text-align: right;\n",
       "    }\n",
       "</style>\n",
       "<table border=\"1\" class=\"dataframe\">\n",
       "  <thead>\n",
       "    <tr style=\"text-align: right;\">\n",
       "      <th></th>\n",
       "      <th>age</th>\n",
       "      <th>salary</th>\n",
       "      <th>previous.orders</th>\n",
       "      <th>previous.purchase</th>\n",
       "      <th>recommendation</th>\n",
       "      <th>gender_Male</th>\n",
       "      <th>edu_High School</th>\n",
       "      <th>edu_University</th>\n",
       "      <th>favourite.genre_Comic</th>\n",
       "      <th>favourite.genre_Crime</th>\n",
       "      <th>favourite.genre_Drama</th>\n",
       "      <th>favourite.genre_Horror</th>\n",
       "      <th>favourite.genre_Romance</th>\n",
       "    </tr>\n",
       "  </thead>\n",
       "  <tbody>\n",
       "    <tr>\n",
       "      <th>65</th>\n",
       "      <td>49</td>\n",
       "      <td>3936</td>\n",
       "      <td>15</td>\n",
       "      <td>648.11</td>\n",
       "      <td>0</td>\n",
       "      <td>0</td>\n",
       "      <td>0</td>\n",
       "      <td>1</td>\n",
       "      <td>0</td>\n",
       "      <td>0</td>\n",
       "      <td>1</td>\n",
       "      <td>0</td>\n",
       "      <td>0</td>\n",
       "    </tr>\n",
       "    <tr>\n",
       "      <th>386</th>\n",
       "      <td>33</td>\n",
       "      <td>2179</td>\n",
       "      <td>32</td>\n",
       "      <td>839.90</td>\n",
       "      <td>0</td>\n",
       "      <td>0</td>\n",
       "      <td>0</td>\n",
       "      <td>1</td>\n",
       "      <td>0</td>\n",
       "      <td>0</td>\n",
       "      <td>0</td>\n",
       "      <td>1</td>\n",
       "      <td>0</td>\n",
       "    </tr>\n",
       "    <tr>\n",
       "      <th>480</th>\n",
       "      <td>24</td>\n",
       "      <td>2976</td>\n",
       "      <td>29</td>\n",
       "      <td>966.48</td>\n",
       "      <td>0</td>\n",
       "      <td>1</td>\n",
       "      <td>0</td>\n",
       "      <td>1</td>\n",
       "      <td>1</td>\n",
       "      <td>0</td>\n",
       "      <td>0</td>\n",
       "      <td>0</td>\n",
       "      <td>0</td>\n",
       "    </tr>\n",
       "  </tbody>\n",
       "</table>\n",
       "</div>"
      ],
      "text/plain": [
       "     age  salary  previous.orders  previous.purchase  recommendation  \\\n",
       "65    49    3936               15             648.11               0   \n",
       "386   33    2179               32             839.90               0   \n",
       "480   24    2976               29             966.48               0   \n",
       "\n",
       "     gender_Male  edu_High School  edu_University  favourite.genre_Comic  \\\n",
       "65             0                0               1                      0   \n",
       "386            0                0               1                      0   \n",
       "480            1                0               1                      1   \n",
       "\n",
       "     favourite.genre_Crime  favourite.genre_Drama  favourite.genre_Horror  \\\n",
       "65                       0                      1                       0   \n",
       "386                      0                      0                       1   \n",
       "480                      0                      0                       0   \n",
       "\n",
       "     favourite.genre_Romance  \n",
       "65                         0  \n",
       "386                        0  \n",
       "480                        0  "
      ]
     },
     "execution_count": 89,
     "metadata": {},
     "output_type": "execute_result"
    }
   ],
   "source": [
    "## Creating dummy variables for 'Gender', 'Student', 'Married' and 'Ethnicity' columns including one-hot encoding-\n",
    "\n",
    "rec_catCol = ['gender', 'edu', 'favourite.genre']\n",
    "\n",
    "rec_dum = pd.get_dummies(rec_df, columns = rec_catCol, drop_first = True)\n",
    "rec_dum.sample(3)"
   ]
  },
  {
   "cell_type": "code",
   "execution_count": 90,
   "metadata": {},
   "outputs": [],
   "source": [
    "### Logistic regression modeling\n",
    "\n",
    "## Separate predictors and target variable \n",
    "\n",
    "rec_x = rec_dum.drop(['recommendation'], axis = 1) \n",
    "rec_y = rec_dum['recommendation']\n",
    "\n",
    "## Data Split: Deviding the data into asked proportion: training (80 %) and test set (20 %) using 'random_state = 0' method\n",
    "\n",
    "rec_x_train, rec_x_test, rec_y_train, rec_y_test = train_test_split(rec_x, rec_y, test_size = 0.20, random_state = 0)"
   ]
  },
  {
   "cell_type": "code",
   "execution_count": 91,
   "metadata": {},
   "outputs": [
    {
     "name": "stdout",
     "output_type": "stream",
     "text": [
      "(490, 12) (490,)\n",
      "(392, 12) (98, 12)\n",
      "(392,) (98,)\n"
     ]
    }
   ],
   "source": [
    "## Checking the shape of splitted items\n",
    "\n",
    "print(rec_x.shape, rec_y.shape)\n",
    "print(rec_x_train.shape, rec_x_test.shape)\n",
    "print(rec_y_train.shape, rec_y_test.shape)"
   ]
  },
  {
   "cell_type": "code",
   "execution_count": 92,
   "metadata": {},
   "outputs": [],
   "source": [
    "### Building the Logistic Model-\n",
    "\n",
    "## Defining the Logistic Model\n",
    "\n",
    "rec_model = LogisticRegression(solver = 'lbfgs')"
   ]
  },
  {
   "cell_type": "code",
   "execution_count": 93,
   "metadata": {},
   "outputs": [
    {
     "name": "stderr",
     "output_type": "stream",
     "text": [
      "C:\\ProgramData\\Anaconda3\\lib\\site-packages\\sklearn\\linear_model\\_logistic.py:940: ConvergenceWarning: lbfgs failed to converge (status=1):\n",
      "STOP: TOTAL NO. of ITERATIONS REACHED LIMIT.\n",
      "\n",
      "Increase the number of iterations (max_iter) or scale the data as shown in:\n",
      "    https://scikit-learn.org/stable/modules/preprocessing.html\n",
      "Please also refer to the documentation for alternative solver options:\n",
      "    https://scikit-learn.org/stable/modules/linear_model.html#logistic-regression\n",
      "  extra_warning_msg=_LOGISTIC_SOLVER_CONVERGENCE_MSG)\n"
     ]
    },
    {
     "data": {
      "text/plain": [
       "LogisticRegression(C=1.0, class_weight=None, dual=False, fit_intercept=True,\n",
       "                   intercept_scaling=1, l1_ratio=None, max_iter=100,\n",
       "                   multi_class='auto', n_jobs=None, penalty='l2',\n",
       "                   random_state=None, solver='lbfgs', tol=0.0001, verbose=0,\n",
       "                   warm_start=False)"
      ]
     },
     "execution_count": 93,
     "metadata": {},
     "output_type": "execute_result"
    }
   ],
   "source": [
    "## Now we will train the model usig 'fit' method on the training set \n",
    "\n",
    "rec_model.fit(rec_x_train, rec_y_train)"
   ]
  },
  {
   "cell_type": "code",
   "execution_count": 94,
   "metadata": {},
   "outputs": [
    {
     "data": {
      "text/plain": [
       "array([0, 0, 0, 0, 0], dtype=int64)"
      ]
     },
     "execution_count": 94,
     "metadata": {},
     "output_type": "execute_result"
    }
   ],
   "source": [
    "### Applying the model (Prediction)\n",
    "\n",
    "## Once we trained our model, now we can make predictions for test set\n",
    "\n",
    "rec_y_test_pred = rec_model.predict(rec_x_test)\n",
    "rec_y_test_pred[:5]"
   ]
  },
  {
   "cell_type": "code",
   "execution_count": 95,
   "metadata": {},
   "outputs": [
    {
     "data": {
      "text/plain": [
       "array([0, 0, 0, 0, 0], dtype=int64)"
      ]
     },
     "execution_count": 95,
     "metadata": {},
     "output_type": "execute_result"
    }
   ],
   "source": [
    "## We will now create predictions for training set to compare results\n",
    "\n",
    "rec_y_train_pred = rec_model.predict(rec_x_train)\n",
    "rec_y_train_pred[:5]"
   ]
  },
  {
   "cell_type": "code",
   "execution_count": 96,
   "metadata": {},
   "outputs": [
    {
     "name": "stdout",
     "output_type": "stream",
     "text": [
      "Intercept: [-1.8681736]\n",
      "Slope or Coef: [[-1.26562268e-02  3.30398663e-04  2.98562373e-02 -1.15258112e-04\n",
      "  -3.23229580e-01 -1.29019033e+00 -2.68229815e-01 -4.92364956e-01\n",
      "  -4.06709045e-01  2.36715332e-01 -3.46660962e-01 -9.41596215e-01]]\n"
     ]
    }
   ],
   "source": [
    "## The intercept and slope\n",
    "\n",
    "print('Intercept:', rec_model.intercept_)\n",
    "print('Slope or Coef:', rec_model.coef_)"
   ]
  },
  {
   "cell_type": "code",
   "execution_count": 97,
   "metadata": {},
   "outputs": [
    {
     "name": "stdout",
     "output_type": "stream",
     "text": [
      "Training set: 0.8545918367346939\n",
      "Test set: 0.6632653061224489\n"
     ]
    }
   ],
   "source": [
    "### Model Evaluation:-\n",
    "\n",
    "## Now we will calculated the performance of both the training and test sets\n",
    "\n",
    "## Results for the Training and Test sets \n",
    "\n",
    "print('Training set:', rec_model.score(rec_x_train, rec_y_train))\n",
    "print('Test set:', rec_model.score(rec_x_test, rec_y_test))"
   ]
  },
  {
   "cell_type": "code",
   "execution_count": 98,
   "metadata": {},
   "outputs": [
    {
     "name": "stdout",
     "output_type": "stream",
     "text": [
      "              precision    recall  f1-score   support\n",
      "\n",
      "           0       0.85      1.00      0.92       332\n",
      "           1       1.00      0.05      0.10        60\n",
      "\n",
      "    accuracy                           0.85       392\n",
      "   macro avg       0.93      0.53      0.51       392\n",
      "weighted avg       0.88      0.85      0.79       392\n",
      " \n",
      "\n",
      "              precision    recall  f1-score   support\n",
      "\n",
      "           0       0.66      1.00      0.80        64\n",
      "           1       1.00      0.03      0.06        34\n",
      "\n",
      "    accuracy                           0.66        98\n",
      "   macro avg       0.83      0.51      0.43        98\n",
      "weighted avg       0.78      0.66      0.54        98\n",
      "\n"
     ]
    }
   ],
   "source": [
    "## We can aslo verify this using the following useful function (This also helps calculate differet measures)-\n",
    "\n",
    "rec_report_train = classification_report(rec_y_train, rec_y_train_pred)   ## Training set report\n",
    "\n",
    "rec_report_test = classification_report(rec_y_test, rec_y_test_pred)   ## Test set report\n",
    "\n",
    "print(rec_report_train, '\\n')\n",
    "print(rec_report_test)"
   ]
  },
  {
   "cell_type": "markdown",
   "metadata": {},
   "source": [
    "**Comments:-** Comparing the accuracy for Training and Test sets.\n",
    "\n",
    "We observed that, model performance in the Training set is 0.85 % whilst it is less in the Test set (0.66 %). However, it is    not any surprise as the Training set got class difference of more than 5.53 times (between 0 and 1) whilst the Test set got class difference of around 1.88 times only."
   ]
  },
  {
   "cell_type": "code",
   "execution_count": 99,
   "metadata": {},
   "outputs": [
    {
     "name": "stdout",
     "output_type": "stream",
     "text": [
      "[0.84810127 0.86075949 0.84615385 0.84615385 0.84615385] \n",
      "\n",
      "The minimum score is: 0.8461538461538461\n",
      "and the maximum score is: 0.8607594936708861 \n",
      "\n",
      "While the average is: 0.8494644595910419\n"
     ]
    },
    {
     "name": "stderr",
     "output_type": "stream",
     "text": [
      "C:\\ProgramData\\Anaconda3\\lib\\site-packages\\sklearn\\linear_model\\_logistic.py:940: ConvergenceWarning: lbfgs failed to converge (status=1):\n",
      "STOP: TOTAL NO. of ITERATIONS REACHED LIMIT.\n",
      "\n",
      "Increase the number of iterations (max_iter) or scale the data as shown in:\n",
      "    https://scikit-learn.org/stable/modules/preprocessing.html\n",
      "Please also refer to the documentation for alternative solver options:\n",
      "    https://scikit-learn.org/stable/modules/linear_model.html#logistic-regression\n",
      "  extra_warning_msg=_LOGISTIC_SOLVER_CONVERGENCE_MSG)\n",
      "C:\\ProgramData\\Anaconda3\\lib\\site-packages\\sklearn\\linear_model\\_logistic.py:940: ConvergenceWarning: lbfgs failed to converge (status=1):\n",
      "STOP: TOTAL NO. of ITERATIONS REACHED LIMIT.\n",
      "\n",
      "Increase the number of iterations (max_iter) or scale the data as shown in:\n",
      "    https://scikit-learn.org/stable/modules/preprocessing.html\n",
      "Please also refer to the documentation for alternative solver options:\n",
      "    https://scikit-learn.org/stable/modules/linear_model.html#logistic-regression\n",
      "  extra_warning_msg=_LOGISTIC_SOLVER_CONVERGENCE_MSG)\n",
      "C:\\ProgramData\\Anaconda3\\lib\\site-packages\\sklearn\\linear_model\\_logistic.py:940: ConvergenceWarning: lbfgs failed to converge (status=1):\n",
      "STOP: TOTAL NO. of ITERATIONS REACHED LIMIT.\n",
      "\n",
      "Increase the number of iterations (max_iter) or scale the data as shown in:\n",
      "    https://scikit-learn.org/stable/modules/preprocessing.html\n",
      "Please also refer to the documentation for alternative solver options:\n",
      "    https://scikit-learn.org/stable/modules/linear_model.html#logistic-regression\n",
      "  extra_warning_msg=_LOGISTIC_SOLVER_CONVERGENCE_MSG)\n",
      "C:\\ProgramData\\Anaconda3\\lib\\site-packages\\sklearn\\linear_model\\_logistic.py:940: ConvergenceWarning: lbfgs failed to converge (status=1):\n",
      "STOP: TOTAL NO. of ITERATIONS REACHED LIMIT.\n",
      "\n",
      "Increase the number of iterations (max_iter) or scale the data as shown in:\n",
      "    https://scikit-learn.org/stable/modules/preprocessing.html\n",
      "Please also refer to the documentation for alternative solver options:\n",
      "    https://scikit-learn.org/stable/modules/linear_model.html#logistic-regression\n",
      "  extra_warning_msg=_LOGISTIC_SOLVER_CONVERGENCE_MSG)\n"
     ]
    }
   ],
   "source": [
    "### Performing Cross-validation with cv = 5 and scoring = 'accuracy'\n",
    "\n",
    "rec_scores = cross_val_score(rec_model, rec_x_train, rec_y_train, cv = 5, scoring = 'accuracy') ## using Training sets\n",
    "\n",
    "print(rec_scores, '\\n')\n",
    "\n",
    "print('The minimum score is:', rec_scores.min())\n",
    "\n",
    "print('and the maximum score is:', rec_scores.max(), '\\n')\n",
    "\n",
    "print('While the average is:', rec_scores.mean())                                  "
   ]
  },
  {
   "cell_type": "markdown",
   "metadata": {},
   "source": [
    "**Comments:**\n",
    "I have done the cross validation in the following way too, as I was not sure which way it would be right! however, to me, using the whole dataset makes more sense."
   ]
  },
  {
   "cell_type": "code",
   "execution_count": 100,
   "metadata": {},
   "outputs": [
    {
     "name": "stdout",
     "output_type": "stream",
     "text": [
      "[0.82653061 0.80612245 0.80612245 0.79591837 0.81632653] \n",
      "\n",
      "The minimum score is: 0.7959183673469388\n",
      "And the maximum score is: 0.826530612244898 \n",
      "\n",
      "While the average is: 0.810204081632653\n"
     ]
    },
    {
     "name": "stderr",
     "output_type": "stream",
     "text": [
      "C:\\ProgramData\\Anaconda3\\lib\\site-packages\\sklearn\\linear_model\\_logistic.py:940: ConvergenceWarning: lbfgs failed to converge (status=1):\n",
      "STOP: TOTAL NO. of ITERATIONS REACHED LIMIT.\n",
      "\n",
      "Increase the number of iterations (max_iter) or scale the data as shown in:\n",
      "    https://scikit-learn.org/stable/modules/preprocessing.html\n",
      "Please also refer to the documentation for alternative solver options:\n",
      "    https://scikit-learn.org/stable/modules/linear_model.html#logistic-regression\n",
      "  extra_warning_msg=_LOGISTIC_SOLVER_CONVERGENCE_MSG)\n",
      "C:\\ProgramData\\Anaconda3\\lib\\site-packages\\sklearn\\linear_model\\_logistic.py:940: ConvergenceWarning: lbfgs failed to converge (status=1):\n",
      "STOP: TOTAL NO. of ITERATIONS REACHED LIMIT.\n",
      "\n",
      "Increase the number of iterations (max_iter) or scale the data as shown in:\n",
      "    https://scikit-learn.org/stable/modules/preprocessing.html\n",
      "Please also refer to the documentation for alternative solver options:\n",
      "    https://scikit-learn.org/stable/modules/linear_model.html#logistic-regression\n",
      "  extra_warning_msg=_LOGISTIC_SOLVER_CONVERGENCE_MSG)\n",
      "C:\\ProgramData\\Anaconda3\\lib\\site-packages\\sklearn\\linear_model\\_logistic.py:940: ConvergenceWarning: lbfgs failed to converge (status=1):\n",
      "STOP: TOTAL NO. of ITERATIONS REACHED LIMIT.\n",
      "\n",
      "Increase the number of iterations (max_iter) or scale the data as shown in:\n",
      "    https://scikit-learn.org/stable/modules/preprocessing.html\n",
      "Please also refer to the documentation for alternative solver options:\n",
      "    https://scikit-learn.org/stable/modules/linear_model.html#logistic-regression\n",
      "  extra_warning_msg=_LOGISTIC_SOLVER_CONVERGENCE_MSG)\n",
      "C:\\ProgramData\\Anaconda3\\lib\\site-packages\\sklearn\\linear_model\\_logistic.py:940: ConvergenceWarning: lbfgs failed to converge (status=1):\n",
      "STOP: TOTAL NO. of ITERATIONS REACHED LIMIT.\n",
      "\n",
      "Increase the number of iterations (max_iter) or scale the data as shown in:\n",
      "    https://scikit-learn.org/stable/modules/preprocessing.html\n",
      "Please also refer to the documentation for alternative solver options:\n",
      "    https://scikit-learn.org/stable/modules/linear_model.html#logistic-regression\n",
      "  extra_warning_msg=_LOGISTIC_SOLVER_CONVERGENCE_MSG)\n",
      "C:\\ProgramData\\Anaconda3\\lib\\site-packages\\sklearn\\linear_model\\_logistic.py:940: ConvergenceWarning: lbfgs failed to converge (status=1):\n",
      "STOP: TOTAL NO. of ITERATIONS REACHED LIMIT.\n",
      "\n",
      "Increase the number of iterations (max_iter) or scale the data as shown in:\n",
      "    https://scikit-learn.org/stable/modules/preprocessing.html\n",
      "Please also refer to the documentation for alternative solver options:\n",
      "    https://scikit-learn.org/stable/modules/linear_model.html#logistic-regression\n",
      "  extra_warning_msg=_LOGISTIC_SOLVER_CONVERGENCE_MSG)\n"
     ]
    }
   ],
   "source": [
    "rec_scores_2 = cross_val_score(rec_model, rec_x, rec_y, cv = 5, scoring = 'accuracy') ## using whole data\n",
    "\n",
    "print(rec_scores_2, '\\n')\n",
    "\n",
    "print('The minimum score is:', rec_scores_2.min())\n",
    "\n",
    "print('And the maximum score is:', rec_scores_2.max(), '\\n')\n",
    "\n",
    "print('While the average is:', rec_scores_2.mean())   "
   ]
  },
  {
   "cell_type": "code",
   "execution_count": null,
   "metadata": {},
   "outputs": [],
   "source": []
  },
  {
   "cell_type": "markdown",
   "metadata": {},
   "source": [
    "### Answer to the Question No: 04\n",
    "\n",
    "*(ItalianWineSamples.csv)*\n",
    "\n",
    "\n",
    "**4. (10 points) In this exercise you have to work with the data in the file ’ItalianWineSamples.csv’, that\n",
    "contains 13 chemical measurements on 178 Italian wine samples. More information about the data can\n",
    "be found here: https://archive.ics.uci.edu/ml/datasets/wine Your task is to perform K-Means\n",
    "clustering to the dataset; in the model building process, do not use the column ’Type’. After scaling the\n",
    "variables, determine the optimal number of clusters using the elbow-method introduced in the course, and\n",
    "then perform the K-Means analysis using the optimal cluster number you determined (set random state\n",
    "= 0).**"
   ]
  },
  {
   "cell_type": "code",
   "execution_count": 101,
   "metadata": {},
   "outputs": [
    {
     "data": {
      "text/html": [
       "<div>\n",
       "<style scoped>\n",
       "    .dataframe tbody tr th:only-of-type {\n",
       "        vertical-align: middle;\n",
       "    }\n",
       "\n",
       "    .dataframe tbody tr th {\n",
       "        vertical-align: top;\n",
       "    }\n",
       "\n",
       "    .dataframe thead th {\n",
       "        text-align: right;\n",
       "    }\n",
       "</style>\n",
       "<table border=\"1\" class=\"dataframe\">\n",
       "  <thead>\n",
       "    <tr style=\"text-align: right;\">\n",
       "      <th></th>\n",
       "      <th>Alcohol</th>\n",
       "      <th>Malic</th>\n",
       "      <th>Ash</th>\n",
       "      <th>Alcalinity</th>\n",
       "      <th>Magnesium</th>\n",
       "      <th>Phenols</th>\n",
       "      <th>Flavanoids</th>\n",
       "      <th>Nonflavanoids</th>\n",
       "      <th>Proanthocyanins</th>\n",
       "      <th>Color</th>\n",
       "      <th>Hue</th>\n",
       "      <th>Dilution</th>\n",
       "      <th>Proline</th>\n",
       "    </tr>\n",
       "    <tr>\n",
       "      <th>Type</th>\n",
       "      <th></th>\n",
       "      <th></th>\n",
       "      <th></th>\n",
       "      <th></th>\n",
       "      <th></th>\n",
       "      <th></th>\n",
       "      <th></th>\n",
       "      <th></th>\n",
       "      <th></th>\n",
       "      <th></th>\n",
       "      <th></th>\n",
       "      <th></th>\n",
       "      <th></th>\n",
       "    </tr>\n",
       "  </thead>\n",
       "  <tbody>\n",
       "    <tr>\n",
       "      <th>3</th>\n",
       "      <td>13.27</td>\n",
       "      <td>4.28</td>\n",
       "      <td>2.26</td>\n",
       "      <td>20.0</td>\n",
       "      <td>120</td>\n",
       "      <td>1.59</td>\n",
       "      <td>0.69</td>\n",
       "      <td>0.43</td>\n",
       "      <td>1.35</td>\n",
       "      <td>10.2</td>\n",
       "      <td>0.59</td>\n",
       "      <td>1.56</td>\n",
       "      <td>835</td>\n",
       "    </tr>\n",
       "    <tr>\n",
       "      <th>3</th>\n",
       "      <td>13.17</td>\n",
       "      <td>2.59</td>\n",
       "      <td>2.37</td>\n",
       "      <td>20.0</td>\n",
       "      <td>120</td>\n",
       "      <td>1.65</td>\n",
       "      <td>0.68</td>\n",
       "      <td>0.53</td>\n",
       "      <td>1.46</td>\n",
       "      <td>9.3</td>\n",
       "      <td>0.60</td>\n",
       "      <td>1.62</td>\n",
       "      <td>840</td>\n",
       "    </tr>\n",
       "    <tr>\n",
       "      <th>3</th>\n",
       "      <td>14.13</td>\n",
       "      <td>4.10</td>\n",
       "      <td>2.74</td>\n",
       "      <td>24.5</td>\n",
       "      <td>96</td>\n",
       "      <td>2.05</td>\n",
       "      <td>0.76</td>\n",
       "      <td>0.56</td>\n",
       "      <td>1.35</td>\n",
       "      <td>9.2</td>\n",
       "      <td>0.61</td>\n",
       "      <td>1.60</td>\n",
       "      <td>560</td>\n",
       "    </tr>\n",
       "  </tbody>\n",
       "</table>\n",
       "</div>"
      ],
      "text/plain": [
       "      Alcohol  Malic   Ash  Alcalinity  Magnesium  Phenols  Flavanoids  \\\n",
       "Type                                                                     \n",
       "3       13.27   4.28  2.26        20.0        120     1.59        0.69   \n",
       "3       13.17   2.59  2.37        20.0        120     1.65        0.68   \n",
       "3       14.13   4.10  2.74        24.5         96     2.05        0.76   \n",
       "\n",
       "      Nonflavanoids  Proanthocyanins  Color   Hue  Dilution  Proline  \n",
       "Type                                                                  \n",
       "3              0.43             1.35   10.2  0.59      1.56      835  \n",
       "3              0.53             1.46    9.3  0.60      1.62      840  \n",
       "3              0.56             1.35    9.2  0.61      1.60      560  "
      ]
     },
     "execution_count": 101,
     "metadata": {},
     "output_type": "execute_result"
    }
   ],
   "source": [
    "## Reading the given 'ItalianWineSamples.csv' file\n",
    "\n",
    "## Loading the data using first column as our index-\n",
    "# This method will help us in later stage, for example, we won't use 'Type' in our model building process.\n",
    "\n",
    "df_4 = pd.read_csv('ItalianWineSamples.csv', sep = ',', index_col = 0) \n",
    "df_4.tail(3)"
   ]
  },
  {
   "cell_type": "code",
   "execution_count": 102,
   "metadata": {},
   "outputs": [
    {
     "name": "stdout",
     "output_type": "stream",
     "text": [
      "<class 'pandas.core.frame.DataFrame'>\n",
      "Int64Index: 178 entries, 1 to 3\n",
      "Data columns (total 13 columns):\n",
      " #   Column           Non-Null Count  Dtype  \n",
      "---  ------           --------------  -----  \n",
      " 0   Alcohol          178 non-null    float64\n",
      " 1   Malic            178 non-null    float64\n",
      " 2   Ash              178 non-null    float64\n",
      " 3   Alcalinity       178 non-null    float64\n",
      " 4   Magnesium        178 non-null    int64  \n",
      " 5   Phenols          178 non-null    float64\n",
      " 6   Flavanoids       178 non-null    float64\n",
      " 7   Nonflavanoids    178 non-null    float64\n",
      " 8   Proanthocyanins  178 non-null    float64\n",
      " 9   Color            178 non-null    float64\n",
      " 10  Hue              178 non-null    float64\n",
      " 11  Dilution         178 non-null    float64\n",
      " 12  Proline          178 non-null    int64  \n",
      "dtypes: float64(11), int64(2)\n",
      "memory usage: 19.5 KB\n"
     ]
    }
   ],
   "source": [
    "### Understanding the data, Data Prepearation and EDA\n",
    "\n",
    "## Following we can have a look from multi dimentional agnle to the dataset, \n",
    "# such as- numbers of data entries, null values (if any), datatypes.\n",
    "\n",
    "df_4.info()"
   ]
  },
  {
   "cell_type": "code",
   "execution_count": 103,
   "metadata": {},
   "outputs": [
    {
     "data": {
      "text/plain": [
       "(178, 13)"
      ]
     },
     "execution_count": 103,
     "metadata": {},
     "output_type": "execute_result"
    }
   ],
   "source": [
    "## Removing duplicate rows (if any) from the dataset\n",
    "\n",
    "wine_df = df_4.drop_duplicates(keep = 'first')\n",
    "wine_df.shape"
   ]
  },
  {
   "cell_type": "code",
   "execution_count": 104,
   "metadata": {},
   "outputs": [
    {
     "data": {
      "text/plain": [
       "2    71\n",
       "1    59\n",
       "3    48\n",
       "Name: Type, dtype: int64"
      ]
     },
     "execution_count": 104,
     "metadata": {},
     "output_type": "execute_result"
    }
   ],
   "source": [
    "## Checking the wine types and what number of wine samples belong to which type of wine \n",
    "\n",
    "wine_df.index.value_counts()"
   ]
  },
  {
   "cell_type": "code",
   "execution_count": 105,
   "metadata": {},
   "outputs": [
    {
     "data": {
      "text/html": [
       "<div>\n",
       "<style scoped>\n",
       "    .dataframe tbody tr th:only-of-type {\n",
       "        vertical-align: middle;\n",
       "    }\n",
       "\n",
       "    .dataframe tbody tr th {\n",
       "        vertical-align: top;\n",
       "    }\n",
       "\n",
       "    .dataframe thead th {\n",
       "        text-align: right;\n",
       "    }\n",
       "</style>\n",
       "<table border=\"1\" class=\"dataframe\">\n",
       "  <thead>\n",
       "    <tr style=\"text-align: right;\">\n",
       "      <th></th>\n",
       "      <th>count</th>\n",
       "      <th>mean</th>\n",
       "      <th>std</th>\n",
       "      <th>min</th>\n",
       "      <th>25%</th>\n",
       "      <th>50%</th>\n",
       "      <th>75%</th>\n",
       "      <th>max</th>\n",
       "    </tr>\n",
       "  </thead>\n",
       "  <tbody>\n",
       "    <tr>\n",
       "      <th>Alcohol</th>\n",
       "      <td>178.0</td>\n",
       "      <td>13.000618</td>\n",
       "      <td>0.811827</td>\n",
       "      <td>11.03</td>\n",
       "      <td>12.3625</td>\n",
       "      <td>13.050</td>\n",
       "      <td>13.6775</td>\n",
       "      <td>14.83</td>\n",
       "    </tr>\n",
       "    <tr>\n",
       "      <th>Malic</th>\n",
       "      <td>178.0</td>\n",
       "      <td>2.336348</td>\n",
       "      <td>1.117146</td>\n",
       "      <td>0.74</td>\n",
       "      <td>1.6025</td>\n",
       "      <td>1.865</td>\n",
       "      <td>3.0825</td>\n",
       "      <td>5.80</td>\n",
       "    </tr>\n",
       "    <tr>\n",
       "      <th>Ash</th>\n",
       "      <td>178.0</td>\n",
       "      <td>2.366517</td>\n",
       "      <td>0.274344</td>\n",
       "      <td>1.36</td>\n",
       "      <td>2.2100</td>\n",
       "      <td>2.360</td>\n",
       "      <td>2.5575</td>\n",
       "      <td>3.23</td>\n",
       "    </tr>\n",
       "    <tr>\n",
       "      <th>Alcalinity</th>\n",
       "      <td>178.0</td>\n",
       "      <td>19.494944</td>\n",
       "      <td>3.339564</td>\n",
       "      <td>10.60</td>\n",
       "      <td>17.2000</td>\n",
       "      <td>19.500</td>\n",
       "      <td>21.5000</td>\n",
       "      <td>30.00</td>\n",
       "    </tr>\n",
       "    <tr>\n",
       "      <th>Magnesium</th>\n",
       "      <td>178.0</td>\n",
       "      <td>99.741573</td>\n",
       "      <td>14.282484</td>\n",
       "      <td>70.00</td>\n",
       "      <td>88.0000</td>\n",
       "      <td>98.000</td>\n",
       "      <td>107.0000</td>\n",
       "      <td>162.00</td>\n",
       "    </tr>\n",
       "    <tr>\n",
       "      <th>Phenols</th>\n",
       "      <td>178.0</td>\n",
       "      <td>2.295112</td>\n",
       "      <td>0.625851</td>\n",
       "      <td>0.98</td>\n",
       "      <td>1.7425</td>\n",
       "      <td>2.355</td>\n",
       "      <td>2.8000</td>\n",
       "      <td>3.88</td>\n",
       "    </tr>\n",
       "    <tr>\n",
       "      <th>Flavanoids</th>\n",
       "      <td>178.0</td>\n",
       "      <td>2.029270</td>\n",
       "      <td>0.998859</td>\n",
       "      <td>0.34</td>\n",
       "      <td>1.2050</td>\n",
       "      <td>2.135</td>\n",
       "      <td>2.8750</td>\n",
       "      <td>5.08</td>\n",
       "    </tr>\n",
       "    <tr>\n",
       "      <th>Nonflavanoids</th>\n",
       "      <td>178.0</td>\n",
       "      <td>0.361854</td>\n",
       "      <td>0.124453</td>\n",
       "      <td>0.13</td>\n",
       "      <td>0.2700</td>\n",
       "      <td>0.340</td>\n",
       "      <td>0.4375</td>\n",
       "      <td>0.66</td>\n",
       "    </tr>\n",
       "    <tr>\n",
       "      <th>Proanthocyanins</th>\n",
       "      <td>178.0</td>\n",
       "      <td>1.590899</td>\n",
       "      <td>0.572359</td>\n",
       "      <td>0.41</td>\n",
       "      <td>1.2500</td>\n",
       "      <td>1.555</td>\n",
       "      <td>1.9500</td>\n",
       "      <td>3.58</td>\n",
       "    </tr>\n",
       "    <tr>\n",
       "      <th>Color</th>\n",
       "      <td>178.0</td>\n",
       "      <td>5.058090</td>\n",
       "      <td>2.318286</td>\n",
       "      <td>1.28</td>\n",
       "      <td>3.2200</td>\n",
       "      <td>4.690</td>\n",
       "      <td>6.2000</td>\n",
       "      <td>13.00</td>\n",
       "    </tr>\n",
       "    <tr>\n",
       "      <th>Hue</th>\n",
       "      <td>178.0</td>\n",
       "      <td>0.957449</td>\n",
       "      <td>0.228572</td>\n",
       "      <td>0.48</td>\n",
       "      <td>0.7825</td>\n",
       "      <td>0.965</td>\n",
       "      <td>1.1200</td>\n",
       "      <td>1.71</td>\n",
       "    </tr>\n",
       "    <tr>\n",
       "      <th>Dilution</th>\n",
       "      <td>178.0</td>\n",
       "      <td>2.611685</td>\n",
       "      <td>0.709990</td>\n",
       "      <td>1.27</td>\n",
       "      <td>1.9375</td>\n",
       "      <td>2.780</td>\n",
       "      <td>3.1700</td>\n",
       "      <td>4.00</td>\n",
       "    </tr>\n",
       "    <tr>\n",
       "      <th>Proline</th>\n",
       "      <td>178.0</td>\n",
       "      <td>746.893258</td>\n",
       "      <td>314.907474</td>\n",
       "      <td>278.00</td>\n",
       "      <td>500.5000</td>\n",
       "      <td>673.500</td>\n",
       "      <td>985.0000</td>\n",
       "      <td>1680.00</td>\n",
       "    </tr>\n",
       "  </tbody>\n",
       "</table>\n",
       "</div>"
      ],
      "text/plain": [
       "                 count        mean         std     min       25%      50%  \\\n",
       "Alcohol          178.0   13.000618    0.811827   11.03   12.3625   13.050   \n",
       "Malic            178.0    2.336348    1.117146    0.74    1.6025    1.865   \n",
       "Ash              178.0    2.366517    0.274344    1.36    2.2100    2.360   \n",
       "Alcalinity       178.0   19.494944    3.339564   10.60   17.2000   19.500   \n",
       "Magnesium        178.0   99.741573   14.282484   70.00   88.0000   98.000   \n",
       "Phenols          178.0    2.295112    0.625851    0.98    1.7425    2.355   \n",
       "Flavanoids       178.0    2.029270    0.998859    0.34    1.2050    2.135   \n",
       "Nonflavanoids    178.0    0.361854    0.124453    0.13    0.2700    0.340   \n",
       "Proanthocyanins  178.0    1.590899    0.572359    0.41    1.2500    1.555   \n",
       "Color            178.0    5.058090    2.318286    1.28    3.2200    4.690   \n",
       "Hue              178.0    0.957449    0.228572    0.48    0.7825    0.965   \n",
       "Dilution         178.0    2.611685    0.709990    1.27    1.9375    2.780   \n",
       "Proline          178.0  746.893258  314.907474  278.00  500.5000  673.500   \n",
       "\n",
       "                      75%      max  \n",
       "Alcohol           13.6775    14.83  \n",
       "Malic              3.0825     5.80  \n",
       "Ash                2.5575     3.23  \n",
       "Alcalinity        21.5000    30.00  \n",
       "Magnesium        107.0000   162.00  \n",
       "Phenols            2.8000     3.88  \n",
       "Flavanoids         2.8750     5.08  \n",
       "Nonflavanoids      0.4375     0.66  \n",
       "Proanthocyanins    1.9500     3.58  \n",
       "Color              6.2000    13.00  \n",
       "Hue                1.1200     1.71  \n",
       "Dilution           3.1700     4.00  \n",
       "Proline          985.0000  1680.00  "
      ]
     },
     "execution_count": 105,
     "metadata": {},
     "output_type": "execute_result"
    }
   ],
   "source": [
    "## Some descriptive statistics\n",
    "\n",
    "wine_df.describe().transpose()  "
   ]
  },
  {
   "cell_type": "code",
   "execution_count": 106,
   "metadata": {},
   "outputs": [
    {
     "data": {
      "text/plain": [
       "Alcohol            126\n",
       "Malic              133\n",
       "Ash                 79\n",
       "Alcalinity          63\n",
       "Magnesium           53\n",
       "Phenols             97\n",
       "Flavanoids         132\n",
       "Nonflavanoids       39\n",
       "Proanthocyanins    101\n",
       "Color              132\n",
       "Hue                 78\n",
       "Dilution           122\n",
       "Proline            121\n",
       "dtype: int64"
      ]
     },
     "execution_count": 106,
     "metadata": {},
     "output_type": "execute_result"
    }
   ],
   "source": [
    "wine_df.nunique()  ## Checking unique values"
   ]
  },
  {
   "cell_type": "code",
   "execution_count": 107,
   "metadata": {},
   "outputs": [
    {
     "data": {
      "text/plain": [
       "array([[<matplotlib.axes._subplots.AxesSubplot object at 0x0000021D6042ED88>,\n",
       "        <matplotlib.axes._subplots.AxesSubplot object at 0x0000021D60450AC8>,\n",
       "        <matplotlib.axes._subplots.AxesSubplot object at 0x0000021D60481F48>,\n",
       "        <matplotlib.axes._subplots.AxesSubplot object at 0x0000021D604BCD08>],\n",
       "       [<matplotlib.axes._subplots.AxesSubplot object at 0x0000021D604F4E08>,\n",
       "        <matplotlib.axes._subplots.AxesSubplot object at 0x0000021D6052EBC8>,\n",
       "        <matplotlib.axes._subplots.AxesSubplot object at 0x0000021D60566CC8>,\n",
       "        <matplotlib.axes._subplots.AxesSubplot object at 0x0000021D6059FDC8>],\n",
       "       [<matplotlib.axes._subplots.AxesSubplot object at 0x0000021D605AB988>,\n",
       "        <matplotlib.axes._subplots.AxesSubplot object at 0x0000021D605E3B88>,\n",
       "        <matplotlib.axes._subplots.AxesSubplot object at 0x0000021D6064C108>,\n",
       "        <matplotlib.axes._subplots.AxesSubplot object at 0x0000021D60684248>],\n",
       "       [<matplotlib.axes._subplots.AxesSubplot object at 0x0000021D606BD388>,\n",
       "        <matplotlib.axes._subplots.AxesSubplot object at 0x0000021D606F5488>,\n",
       "        <matplotlib.axes._subplots.AxesSubplot object at 0x0000021D60733E48>,\n",
       "        <matplotlib.axes._subplots.AxesSubplot object at 0x0000021D60765788>]],\n",
       "      dtype=object)"
      ]
     },
     "execution_count": 107,
     "metadata": {},
     "output_type": "execute_result"
    },
    {
     "data": {
      "image/png": "[encoded data removed]",
      "text/plain": [
       "<Figure size 1440x1080 with 16 Axes>"
      ]
     },
     "metadata": {
      "needs_background": "light"
     },
     "output_type": "display_data"
    }
   ],
   "source": [
    "### Now we will see some vizualized form of data analysis\n",
    "\n",
    "wine_df.hist(figsize=(20, 15))\n",
    "\n",
    "## We can see the values of our variables in x axis are in different scale.  "
   ]
  },
  {
   "cell_type": "code",
   "execution_count": 108,
   "metadata": {},
   "outputs": [
    {
     "data": {
      "text/html": [
       "<div>\n",
       "<style scoped>\n",
       "    .dataframe tbody tr th:only-of-type {\n",
       "        vertical-align: middle;\n",
       "    }\n",
       "\n",
       "    .dataframe tbody tr th {\n",
       "        vertical-align: top;\n",
       "    }\n",
       "\n",
       "    .dataframe thead th {\n",
       "        text-align: right;\n",
       "    }\n",
       "</style>\n",
       "<table border=\"1\" class=\"dataframe\">\n",
       "  <thead>\n",
       "    <tr style=\"text-align: right;\">\n",
       "      <th></th>\n",
       "      <th>Alcohol</th>\n",
       "      <th>Malic</th>\n",
       "      <th>Ash</th>\n",
       "      <th>Alcalinity</th>\n",
       "      <th>Magnesium</th>\n",
       "      <th>Phenols</th>\n",
       "      <th>Flavanoids</th>\n",
       "      <th>Nonflavanoids</th>\n",
       "      <th>Proanthocyanins</th>\n",
       "      <th>Color</th>\n",
       "      <th>Hue</th>\n",
       "      <th>Dilution</th>\n",
       "      <th>Proline</th>\n",
       "    </tr>\n",
       "    <tr>\n",
       "      <th>Type</th>\n",
       "      <th></th>\n",
       "      <th></th>\n",
       "      <th></th>\n",
       "      <th></th>\n",
       "      <th></th>\n",
       "      <th></th>\n",
       "      <th></th>\n",
       "      <th></th>\n",
       "      <th></th>\n",
       "      <th></th>\n",
       "      <th></th>\n",
       "      <th></th>\n",
       "      <th></th>\n",
       "    </tr>\n",
       "  </thead>\n",
       "  <tbody>\n",
       "    <tr>\n",
       "      <th>1</th>\n",
       "      <td>1.518613</td>\n",
       "      <td>-0.562250</td>\n",
       "      <td>0.232053</td>\n",
       "      <td>-1.169593</td>\n",
       "      <td>1.913905</td>\n",
       "      <td>0.808997</td>\n",
       "      <td>1.034819</td>\n",
       "      <td>-0.659563</td>\n",
       "      <td>1.224884</td>\n",
       "      <td>0.251717</td>\n",
       "      <td>0.362177</td>\n",
       "      <td>1.847920</td>\n",
       "      <td>1.013009</td>\n",
       "    </tr>\n",
       "    <tr>\n",
       "      <th>1</th>\n",
       "      <td>0.246290</td>\n",
       "      <td>-0.499413</td>\n",
       "      <td>-0.827996</td>\n",
       "      <td>-2.490847</td>\n",
       "      <td>0.018145</td>\n",
       "      <td>0.568648</td>\n",
       "      <td>0.733629</td>\n",
       "      <td>-0.820719</td>\n",
       "      <td>-0.544721</td>\n",
       "      <td>-0.293321</td>\n",
       "      <td>0.406051</td>\n",
       "      <td>1.113449</td>\n",
       "      <td>0.965242</td>\n",
       "    </tr>\n",
       "    <tr>\n",
       "      <th>1</th>\n",
       "      <td>0.196879</td>\n",
       "      <td>0.021231</td>\n",
       "      <td>1.109334</td>\n",
       "      <td>-0.268738</td>\n",
       "      <td>0.088358</td>\n",
       "      <td>0.808997</td>\n",
       "      <td>1.215533</td>\n",
       "      <td>-0.498407</td>\n",
       "      <td>2.135968</td>\n",
       "      <td>0.269020</td>\n",
       "      <td>0.318304</td>\n",
       "      <td>0.788587</td>\n",
       "      <td>1.395148</td>\n",
       "    </tr>\n",
       "    <tr>\n",
       "      <th>1</th>\n",
       "      <td>1.691550</td>\n",
       "      <td>-0.346811</td>\n",
       "      <td>0.487926</td>\n",
       "      <td>-0.809251</td>\n",
       "      <td>0.930918</td>\n",
       "      <td>2.491446</td>\n",
       "      <td>1.466525</td>\n",
       "      <td>-0.981875</td>\n",
       "      <td>1.032155</td>\n",
       "      <td>1.186068</td>\n",
       "      <td>-0.427544</td>\n",
       "      <td>1.184071</td>\n",
       "      <td>2.334574</td>\n",
       "    </tr>\n",
       "    <tr>\n",
       "      <th>1</th>\n",
       "      <td>0.295700</td>\n",
       "      <td>0.227694</td>\n",
       "      <td>1.840403</td>\n",
       "      <td>0.451946</td>\n",
       "      <td>1.281985</td>\n",
       "      <td>0.808997</td>\n",
       "      <td>0.663351</td>\n",
       "      <td>0.226796</td>\n",
       "      <td>0.401404</td>\n",
       "      <td>-0.319276</td>\n",
       "      <td>0.362177</td>\n",
       "      <td>0.449601</td>\n",
       "      <td>-0.037874</td>\n",
       "    </tr>\n",
       "  </tbody>\n",
       "</table>\n",
       "</div>"
      ],
      "text/plain": [
       "       Alcohol     Malic       Ash  Alcalinity  Magnesium   Phenols  \\\n",
       "Type                                                                  \n",
       "1     1.518613 -0.562250  0.232053   -1.169593   1.913905  0.808997   \n",
       "1     0.246290 -0.499413 -0.827996   -2.490847   0.018145  0.568648   \n",
       "1     0.196879  0.021231  1.109334   -0.268738   0.088358  0.808997   \n",
       "1     1.691550 -0.346811  0.487926   -0.809251   0.930918  2.491446   \n",
       "1     0.295700  0.227694  1.840403    0.451946   1.281985  0.808997   \n",
       "\n",
       "      Flavanoids  Nonflavanoids  Proanthocyanins     Color       Hue  \\\n",
       "Type                                                                   \n",
       "1       1.034819      -0.659563         1.224884  0.251717  0.362177   \n",
       "1       0.733629      -0.820719        -0.544721 -0.293321  0.406051   \n",
       "1       1.215533      -0.498407         2.135968  0.269020  0.318304   \n",
       "1       1.466525      -0.981875         1.032155  1.186068 -0.427544   \n",
       "1       0.663351       0.226796         0.401404 -0.319276  0.362177   \n",
       "\n",
       "      Dilution   Proline  \n",
       "Type                      \n",
       "1     1.847920  1.013009  \n",
       "1     1.113449  0.965242  \n",
       "1     0.788587  1.395148  \n",
       "1     1.184071  2.334574  \n",
       "1     0.449601 -0.037874  "
      ]
     },
     "execution_count": 108,
     "metadata": {},
     "output_type": "execute_result"
    }
   ],
   "source": [
    "### Preprocessing: We will perform now preprocessing in order to get all our variables to be on the same scale\n",
    "## This standardization will allow all variables to be considered by the Clustering algorithm with equal importance.\n",
    "\n",
    "df_scaled = wine_df.apply(lambda x: preprocessing.scale(x))\n",
    "df_scaled.head(5)"
   ]
  },
  {
   "cell_type": "code",
   "execution_count": 109,
   "metadata": {},
   "outputs": [
    {
     "data": {
      "text/plain": [
       "<matplotlib.axes._subplots.AxesSubplot at 0x21d61174bc8>"
      ]
     },
     "execution_count": 109,
     "metadata": {},
     "output_type": "execute_result"
    },
    {
     "data": {
      "image/png": "[encoded data removed]",
      "text/plain": [
       "<Figure size 432x288 with 1 Axes>"
      ]
     },
     "metadata": {
      "needs_background": "light"
     },
     "output_type": "display_data"
    }
   ],
   "source": [
    "## We will visualize some random examples how they look like after the preprocessing\n",
    "\n",
    "sns.distplot(df_scaled['Alcohol'])"
   ]
  },
  {
   "cell_type": "code",
   "execution_count": 110,
   "metadata": {},
   "outputs": [
    {
     "data": {
      "text/plain": [
       "<matplotlib.axes._subplots.AxesSubplot at 0x21d60abc648>"
      ]
     },
     "execution_count": 110,
     "metadata": {},
     "output_type": "execute_result"
    },
    {
     "data": {
      "image/png": "[encoded data removed]",
      "text/plain": [
       "<Figure size 432x288 with 1 Axes>"
      ]
     },
     "metadata": {
      "needs_background": "light"
     },
     "output_type": "display_data"
    }
   ],
   "source": [
    "sns.distplot(df_scaled['Hue'])"
   ]
  },
  {
   "cell_type": "code",
   "execution_count": 111,
   "metadata": {},
   "outputs": [
    {
     "data": {
      "text/plain": [
       "<matplotlib.axes._subplots.AxesSubplot at 0x21d60b42988>"
      ]
     },
     "execution_count": 111,
     "metadata": {},
     "output_type": "execute_result"
    },
    {
     "data": {
      "image/png": "[encoded data removed]",
      "text/plain": [
       "<Figure size 432x288 with 1 Axes>"
      ]
     },
     "metadata": {
      "needs_background": "light"
     },
     "output_type": "display_data"
    }
   ],
   "source": [
    "sns.distplot(df_scaled['Magnesium'])"
   ]
  },
  {
   "cell_type": "code",
   "execution_count": 112,
   "metadata": {},
   "outputs": [
    {
     "data": {
      "text/plain": [
       "[2314.0,\n",
       " 1658.7588524290954,\n",
       " 1277.9284888446423,\n",
       " 1181.8016436661605,\n",
       " 1111.0533824641802,\n",
       " 1052.6008735015037,\n",
       " 995.3626024060992,\n",
       " 930.4659519639059,\n",
       " 893.112026580203]"
      ]
     },
     "execution_count": 112,
     "metadata": {},
     "output_type": "execute_result"
    }
   ],
   "source": [
    "### Clustering: Now we will perform clustering\n",
    "\n",
    "wine_k_range = range(1, 10)   ## Defining the k-range from 1 to 9.\n",
    "\n",
    "wine_sse_clust = []  ## To store the Sum of Squared Error (SSE)\n",
    "\n",
    "for i in wine_k_range:\n",
    "    \n",
    "    wine_km = KMeans(n_clusters = i, init = 'k-means++',   ## Defining the KMeans clustering model\n",
    "                         n_init = 10, random_state = 0)\n",
    "    \n",
    "    wine_km.fit(df_scaled)    ## Fitting the defined model to our scaled dataset\n",
    "    \n",
    "    wine_sse_clust.append(wine_km.inertia_)  ## To append the actual error measure in our created empty list\n",
    "                                            ## 'Inertia' is a parameter on our k-means that gives the SSE for each k. \n",
    "\n",
    "## We have set our paremeters as to: 'number of clusters' = i, an advanced 'cluster initialization technique' = 'k-means++' \n",
    "# which is also by default, 'number of initializations to perform' = 10 (also by default), and 'random_state' = 0. \n",
    "\n",
    "## Here,'k-means++' techique will ensure a smarter initialization of the centroids and improve the quality of the clustering,\n",
    "# whilst 'n_init' will perform the defined number of runs to converge on different cluster assignments.\n",
    "\n",
    "wine_sse_clust   ## Checking the SSE"
   ]
  },
  {
   "cell_type": "code",
   "execution_count": 113,
   "metadata": {},
   "outputs": [
    {
     "name": "stdout",
     "output_type": "stream",
     "text": [
      "Required iterations to coverge: 5 \n",
      "\n",
      "[[-1.02356276 -0.4082108   0.13701368  0.71739772 -0.60534944 -0.57477613\n",
      "  -0.29242505  0.85852755 -0.39474259 -0.99045111  0.5492534  -0.0424939\n",
      "  -0.75081847]\n",
      " [ 0.65012625 -0.18108822  0.20534043 -0.75150407  0.12346503  0.45710074\n",
      "   0.65678687 -0.65026565  0.08670318 -0.16421583  0.39086372  0.84562841\n",
      "   0.99524925]\n",
      " [ 0.31755491  0.58744954  0.30937706  0.64828597  0.27739428 -0.95603243\n",
      "  -1.08355083  0.2236964  -0.46789884  1.60349803 -1.39782052 -1.44850467\n",
      "  -0.37653267]\n",
      " [ 0.57466423 -0.45153801  1.55711362  0.78225927  1.11815402  1.04400602\n",
      "   1.09171041 -0.00822379  0.38972388  0.06967698  0.94349966  0.62144839\n",
      "   0.79407498]\n",
      " [-0.76003956 -0.84770668 -1.67116163 -0.53298899 -0.75420173 -0.37138685\n",
      "  -0.24423465 -0.34799461 -0.58093073 -0.78356731  0.73656351  0.19347822\n",
      "  -0.79684501]\n",
      " [ 0.02497132  1.25215183  0.11477702  0.44568985 -0.46164614 -1.0270075\n",
      "  -1.38264925  1.24409357 -1.07910665  0.25117614 -0.96499269 -1.11703331\n",
      "  -0.41775757]\n",
      " [-0.98279901 -0.7911539  -0.75488951 -0.44140207  3.23040535 -0.53295528\n",
      "  -0.43348237 -1.00201987  1.63662375 -0.96056053  0.68025933 -0.06240934\n",
      "   0.0337771 ]\n",
      " [-0.97437675 -0.01793951 -0.47575438  0.01380268 -0.59462595  0.72596749\n",
      "   0.58394663 -0.55334658  0.75421047 -0.83206758  0.0789945   0.62808259\n",
      "  -0.8036    ]\n",
      " [ 1.23758976 -0.3632678   0.01273209 -1.07825649  0.57692619  1.29971143\n",
      "   1.29334039 -0.78043021  1.10734834  0.5990345   0.36583339  0.81742483\n",
      "   1.3615783 ]]\n"
     ]
    }
   ],
   "source": [
    "print('Required iterations to coverge:', wine_km.n_iter_ , '\\n') ## The number of iterations requried to converge\n",
    "\n",
    "print(wine_km.cluster_centers_)  ## Checking the final locations of the centroids of each cluster. \n",
    "\n",
    "## Optional: Even though it does not say that much but still we can see that  for example, for the 1st column ('Alcohol'), \n",
    "# 9th cluster has the highest value which indicates that, in that corresponding Type of wine Alcohol is higher "
   ]
  },
  {
   "cell_type": "code",
   "execution_count": 114,
   "metadata": {},
   "outputs": [
    {
     "data": {
      "image/png": "[encoded data removed]",
      "text/plain": [
       "<Figure size 432x288 with 1 Axes>"
      ]
     },
     "metadata": {
      "needs_background": "light"
     },
     "output_type": "display_data"
    }
   ],
   "source": [
    "### Determining the optimal number of clusters-\n",
    "\n",
    "## Plotting the SSE\n",
    "\n",
    "plt.xlabel('Number of Clusters')\n",
    "plt.ylabel('Sum of Squared Error')\n",
    "plt.title('The Elbow Method')\n",
    "plt.plot(wine_k_range, wine_sse_clust, marker='o', color = 'red')\n",
    "plt.show()\n",
    "\n",
    "## Using Elbow method, we can determine that the optimal number of clusters is 3."
   ]
  },
  {
   "cell_type": "code",
   "execution_count": 115,
   "metadata": {},
   "outputs": [
    {
     "data": {
      "text/plain": [
       "array([0, 0, 0, 0, 0, 0, 0, 0, 0, 0, 0, 0, 0, 0, 0, 0, 0, 0, 0, 0, 0, 0,\n",
       "       0, 0, 0, 0, 0, 0, 0, 0, 0, 0, 0, 0, 0, 0, 0, 0, 0, 0, 0, 0, 0, 0,\n",
       "       0, 0, 0, 0, 0, 0, 0, 0, 0, 0, 0, 0, 0, 0, 0, 1, 1, 2, 1, 1, 1, 1,\n",
       "       1, 1, 1, 1, 1, 1, 1, 0, 1, 1, 1, 1, 1, 1, 1, 1, 1, 2, 1, 1, 1, 1,\n",
       "       1, 1, 1, 1, 1, 1, 1, 0, 1, 1, 1, 1, 1, 1, 1, 1, 1, 1, 1, 1, 1, 1,\n",
       "       1, 1, 1, 1, 1, 1, 1, 1, 2, 1, 1, 0, 1, 1, 1, 1, 1, 1, 1, 1, 2, 2,\n",
       "       2, 2, 2, 2, 2, 2, 2, 2, 2, 2, 2, 2, 2, 2, 2, 2, 2, 2, 2, 2, 2, 2,\n",
       "       2, 2, 2, 2, 2, 2, 2, 2, 2, 2, 2, 2, 2, 2, 2, 2, 2, 2, 2, 2, 2, 2,\n",
       "       2, 2])"
      ]
     },
     "execution_count": 115,
     "metadata": {},
     "output_type": "execute_result"
    }
   ],
   "source": [
    "###  Performing the K-Means analysis using the determined optimal cluster number \n",
    "\n",
    "## As we already have decided on using 3 clusters, now we can create the final model\n",
    "\n",
    "wine_kmean = KMeans(n_clusters = 3, init = 'k-means++', random_state = 0)   ## Defining the Final KMeans clustering model\n",
    "\n",
    "wine_y_clust = wine_kmean.fit_predict(df_scaled)  ## Fitting and Predicting\n",
    "wine_y_clust"
   ]
  },
  {
   "cell_type": "code",
   "execution_count": null,
   "metadata": {},
   "outputs": [],
   "source": []
  },
  {
   "cell_type": "markdown",
   "metadata": {},
   "source": [
    "#### • How many observations are there in each cluster?\n",
    "\n",
    "#### • What is the average of each variable in each cluster (the original, not the scaled variables)?\n",
    "\n",
    "#### • Can you identify some variables that clearly have different average values for each cluster?"
   ]
  },
  {
   "cell_type": "code",
   "execution_count": 116,
   "metadata": {},
   "outputs": [
    {
     "data": {
      "text/html": [
       "<div>\n",
       "<style scoped>\n",
       "    .dataframe tbody tr th:only-of-type {\n",
       "        vertical-align: middle;\n",
       "    }\n",
       "\n",
       "    .dataframe tbody tr th {\n",
       "        vertical-align: top;\n",
       "    }\n",
       "\n",
       "    .dataframe thead th {\n",
       "        text-align: right;\n",
       "    }\n",
       "</style>\n",
       "<table border=\"1\" class=\"dataframe\">\n",
       "  <thead>\n",
       "    <tr style=\"text-align: right;\">\n",
       "      <th></th>\n",
       "      <th>Alcohol</th>\n",
       "      <th>Malic</th>\n",
       "      <th>Ash</th>\n",
       "      <th>Alcalinity</th>\n",
       "      <th>Magnesium</th>\n",
       "      <th>Phenols</th>\n",
       "      <th>Flavanoids</th>\n",
       "      <th>Nonflavanoids</th>\n",
       "      <th>Proanthocyanins</th>\n",
       "      <th>Color</th>\n",
       "      <th>Hue</th>\n",
       "      <th>Dilution</th>\n",
       "      <th>Proline</th>\n",
       "    </tr>\n",
       "  </thead>\n",
       "  <tbody>\n",
       "    <tr>\n",
       "      <th>0</th>\n",
       "      <td>14.23</td>\n",
       "      <td>1.71</td>\n",
       "      <td>2.43</td>\n",
       "      <td>15.6</td>\n",
       "      <td>127</td>\n",
       "      <td>2.80</td>\n",
       "      <td>3.06</td>\n",
       "      <td>0.28</td>\n",
       "      <td>2.29</td>\n",
       "      <td>5.64</td>\n",
       "      <td>1.04</td>\n",
       "      <td>3.92</td>\n",
       "      <td>1065</td>\n",
       "    </tr>\n",
       "    <tr>\n",
       "      <th>1</th>\n",
       "      <td>12.37</td>\n",
       "      <td>0.94</td>\n",
       "      <td>1.36</td>\n",
       "      <td>10.6</td>\n",
       "      <td>88</td>\n",
       "      <td>1.98</td>\n",
       "      <td>0.57</td>\n",
       "      <td>0.28</td>\n",
       "      <td>0.42</td>\n",
       "      <td>1.95</td>\n",
       "      <td>1.05</td>\n",
       "      <td>1.82</td>\n",
       "      <td>520</td>\n",
       "    </tr>\n",
       "    <tr>\n",
       "      <th>2</th>\n",
       "      <td>12.64</td>\n",
       "      <td>1.36</td>\n",
       "      <td>2.02</td>\n",
       "      <td>16.8</td>\n",
       "      <td>100</td>\n",
       "      <td>2.02</td>\n",
       "      <td>1.41</td>\n",
       "      <td>0.53</td>\n",
       "      <td>0.62</td>\n",
       "      <td>5.75</td>\n",
       "      <td>0.98</td>\n",
       "      <td>1.59</td>\n",
       "      <td>450</td>\n",
       "    </tr>\n",
       "  </tbody>\n",
       "</table>\n",
       "</div>"
      ],
      "text/plain": [
       "   Alcohol  Malic   Ash  Alcalinity  Magnesium  Phenols  Flavanoids  \\\n",
       "0    14.23   1.71  2.43        15.6        127     2.80        3.06   \n",
       "1    12.37   0.94  1.36        10.6         88     1.98        0.57   \n",
       "2    12.64   1.36  2.02        16.8        100     2.02        1.41   \n",
       "\n",
       "   Nonflavanoids  Proanthocyanins  Color   Hue  Dilution  Proline  \n",
       "0           0.28             2.29   5.64  1.04      3.92     1065  \n",
       "1           0.28             0.42   1.95  1.05      1.82      520  \n",
       "2           0.53             0.62   5.75  0.98      1.59      450  "
      ]
     },
     "execution_count": 116,
     "metadata": {},
     "output_type": "execute_result"
    }
   ],
   "source": [
    "### Interpreting the clusters.\n",
    "\n",
    "## We can now look at how the attributes vary over clusters\n",
    "\n",
    "gb = wine_df.groupby(wine_y_clust)   ## Grouping by the Clusters\n",
    "gb.first()"
   ]
  },
  {
   "cell_type": "code",
   "execution_count": 117,
   "metadata": {},
   "outputs": [
    {
     "data": {
      "text/plain": [
       "0    62\n",
       "1    65\n",
       "2    51\n",
       "dtype: int64"
      ]
     },
     "execution_count": 117,
     "metadata": {},
     "output_type": "execute_result"
    }
   ],
   "source": [
    "### Checking the number of observations in each Cluster\n",
    "\n",
    "gb.size()"
   ]
  },
  {
   "cell_type": "code",
   "execution_count": 118,
   "metadata": {},
   "outputs": [
    {
     "data": {
      "text/html": [
       "<div>\n",
       "<style scoped>\n",
       "    .dataframe tbody tr th:only-of-type {\n",
       "        vertical-align: middle;\n",
       "    }\n",
       "\n",
       "    .dataframe tbody tr th {\n",
       "        vertical-align: top;\n",
       "    }\n",
       "\n",
       "    .dataframe thead th {\n",
       "        text-align: right;\n",
       "    }\n",
       "</style>\n",
       "<table border=\"1\" class=\"dataframe\">\n",
       "  <thead>\n",
       "    <tr style=\"text-align: right;\">\n",
       "      <th></th>\n",
       "      <th>Alcohol</th>\n",
       "      <th>Malic</th>\n",
       "      <th>Ash</th>\n",
       "      <th>Alcalinity</th>\n",
       "      <th>Magnesium</th>\n",
       "      <th>Phenols</th>\n",
       "      <th>Flavanoids</th>\n",
       "      <th>Nonflavanoids</th>\n",
       "      <th>Proanthocyanins</th>\n",
       "      <th>Color</th>\n",
       "      <th>Hue</th>\n",
       "      <th>Dilution</th>\n",
       "      <th>Proline</th>\n",
       "    </tr>\n",
       "  </thead>\n",
       "  <tbody>\n",
       "    <tr>\n",
       "      <th>0</th>\n",
       "      <td>13.676774</td>\n",
       "      <td>1.997903</td>\n",
       "      <td>2.466290</td>\n",
       "      <td>17.462903</td>\n",
       "      <td>107.967742</td>\n",
       "      <td>2.847581</td>\n",
       "      <td>3.003226</td>\n",
       "      <td>0.292097</td>\n",
       "      <td>1.922097</td>\n",
       "      <td>5.453548</td>\n",
       "      <td>1.065484</td>\n",
       "      <td>3.163387</td>\n",
       "      <td>1100.225806</td>\n",
       "    </tr>\n",
       "    <tr>\n",
       "      <th>1</th>\n",
       "      <td>12.250923</td>\n",
       "      <td>1.897385</td>\n",
       "      <td>2.231231</td>\n",
       "      <td>20.063077</td>\n",
       "      <td>92.738462</td>\n",
       "      <td>2.247692</td>\n",
       "      <td>2.050000</td>\n",
       "      <td>0.357692</td>\n",
       "      <td>1.624154</td>\n",
       "      <td>2.973077</td>\n",
       "      <td>1.062708</td>\n",
       "      <td>2.803385</td>\n",
       "      <td>510.169231</td>\n",
       "    </tr>\n",
       "    <tr>\n",
       "      <th>2</th>\n",
       "      <td>13.134118</td>\n",
       "      <td>3.307255</td>\n",
       "      <td>2.417647</td>\n",
       "      <td>21.241176</td>\n",
       "      <td>98.666667</td>\n",
       "      <td>1.683922</td>\n",
       "      <td>0.818824</td>\n",
       "      <td>0.451961</td>\n",
       "      <td>1.145882</td>\n",
       "      <td>7.234706</td>\n",
       "      <td>0.691961</td>\n",
       "      <td>1.696667</td>\n",
       "      <td>619.058824</td>\n",
       "    </tr>\n",
       "  </tbody>\n",
       "</table>\n",
       "</div>"
      ],
      "text/plain": [
       "     Alcohol     Malic       Ash  Alcalinity   Magnesium   Phenols  \\\n",
       "0  13.676774  1.997903  2.466290   17.462903  107.967742  2.847581   \n",
       "1  12.250923  1.897385  2.231231   20.063077   92.738462  2.247692   \n",
       "2  13.134118  3.307255  2.417647   21.241176   98.666667  1.683922   \n",
       "\n",
       "   Flavanoids  Nonflavanoids  Proanthocyanins     Color       Hue  Dilution  \\\n",
       "0    3.003226       0.292097         1.922097  5.453548  1.065484  3.163387   \n",
       "1    2.050000       0.357692         1.624154  2.973077  1.062708  2.803385   \n",
       "2    0.818824       0.451961         1.145882  7.234706  0.691961  1.696667   \n",
       "\n",
       "       Proline  \n",
       "0  1100.225806  \n",
       "1   510.169231  \n",
       "2   619.058824  "
      ]
     },
     "execution_count": 118,
     "metadata": {},
     "output_type": "execute_result"
    }
   ],
   "source": [
    "### Checking the average of all the variables\n",
    "\n",
    "gb.mean()\n",
    "\n",
    "## We can see that, more or less, all the variables have different average values for each Cluster"
   ]
  },
  {
   "cell_type": "code",
   "execution_count": null,
   "metadata": {},
   "outputs": [],
   "source": []
  },
  {
   "cell_type": "markdown",
   "metadata": {},
   "source": [
    "**• Compare your K-Means Clustering solution with the ’Type’ variable, which describes the wine varietal\n",
    "each wine sample belongs to out of three possible types. If you consider the created clusters, do any\n",
    "of them correspond to one of the categories in Type (i.e., most of the wines belonging to the cluster\n",
    "have the same Type), or are the clusters just a mix of all the categories in Type?**"
   ]
  },
  {
   "cell_type": "code",
   "execution_count": 119,
   "metadata": {},
   "outputs": [
    {
     "data": {
      "text/html": [
       "<div>\n",
       "<style scoped>\n",
       "    .dataframe tbody tr th:only-of-type {\n",
       "        vertical-align: middle;\n",
       "    }\n",
       "\n",
       "    .dataframe tbody tr th {\n",
       "        vertical-align: top;\n",
       "    }\n",
       "\n",
       "    .dataframe thead th {\n",
       "        text-align: right;\n",
       "    }\n",
       "</style>\n",
       "<table border=\"1\" class=\"dataframe\">\n",
       "  <thead>\n",
       "    <tr style=\"text-align: right;\">\n",
       "      <th></th>\n",
       "      <th>Alcohol</th>\n",
       "      <th>Malic</th>\n",
       "      <th>Ash</th>\n",
       "      <th>Alcalinity</th>\n",
       "      <th>Magnesium</th>\n",
       "      <th>Phenols</th>\n",
       "      <th>Flavanoids</th>\n",
       "      <th>Nonflavanoids</th>\n",
       "      <th>Proanthocyanins</th>\n",
       "      <th>Color</th>\n",
       "      <th>Hue</th>\n",
       "      <th>Dilution</th>\n",
       "      <th>Proline</th>\n",
       "      <th>Cluster</th>\n",
       "    </tr>\n",
       "    <tr>\n",
       "      <th>Type</th>\n",
       "      <th></th>\n",
       "      <th></th>\n",
       "      <th></th>\n",
       "      <th></th>\n",
       "      <th></th>\n",
       "      <th></th>\n",
       "      <th></th>\n",
       "      <th></th>\n",
       "      <th></th>\n",
       "      <th></th>\n",
       "      <th></th>\n",
       "      <th></th>\n",
       "      <th></th>\n",
       "      <th></th>\n",
       "    </tr>\n",
       "  </thead>\n",
       "  <tbody>\n",
       "    <tr>\n",
       "      <th>3</th>\n",
       "      <td>13.40</td>\n",
       "      <td>3.91</td>\n",
       "      <td>2.48</td>\n",
       "      <td>23.0</td>\n",
       "      <td>102</td>\n",
       "      <td>1.80</td>\n",
       "      <td>0.75</td>\n",
       "      <td>0.43</td>\n",
       "      <td>1.41</td>\n",
       "      <td>7.30</td>\n",
       "      <td>0.70</td>\n",
       "      <td>1.56</td>\n",
       "      <td>750</td>\n",
       "      <td>2</td>\n",
       "    </tr>\n",
       "    <tr>\n",
       "      <th>2</th>\n",
       "      <td>11.82</td>\n",
       "      <td>1.72</td>\n",
       "      <td>1.88</td>\n",
       "      <td>19.5</td>\n",
       "      <td>86</td>\n",
       "      <td>2.50</td>\n",
       "      <td>1.64</td>\n",
       "      <td>0.37</td>\n",
       "      <td>1.42</td>\n",
       "      <td>2.06</td>\n",
       "      <td>0.94</td>\n",
       "      <td>2.44</td>\n",
       "      <td>415</td>\n",
       "      <td>1</td>\n",
       "    </tr>\n",
       "    <tr>\n",
       "      <th>1</th>\n",
       "      <td>13.07</td>\n",
       "      <td>1.50</td>\n",
       "      <td>2.10</td>\n",
       "      <td>15.5</td>\n",
       "      <td>98</td>\n",
       "      <td>2.40</td>\n",
       "      <td>2.64</td>\n",
       "      <td>0.28</td>\n",
       "      <td>1.37</td>\n",
       "      <td>3.70</td>\n",
       "      <td>1.18</td>\n",
       "      <td>2.69</td>\n",
       "      <td>1020</td>\n",
       "      <td>0</td>\n",
       "    </tr>\n",
       "    <tr>\n",
       "      <th>2</th>\n",
       "      <td>12.29</td>\n",
       "      <td>3.17</td>\n",
       "      <td>2.21</td>\n",
       "      <td>18.0</td>\n",
       "      <td>88</td>\n",
       "      <td>2.85</td>\n",
       "      <td>2.99</td>\n",
       "      <td>0.45</td>\n",
       "      <td>2.81</td>\n",
       "      <td>2.30</td>\n",
       "      <td>1.42</td>\n",
       "      <td>2.83</td>\n",
       "      <td>406</td>\n",
       "      <td>1</td>\n",
       "    </tr>\n",
       "    <tr>\n",
       "      <th>1</th>\n",
       "      <td>13.71</td>\n",
       "      <td>1.86</td>\n",
       "      <td>2.36</td>\n",
       "      <td>16.6</td>\n",
       "      <td>101</td>\n",
       "      <td>2.61</td>\n",
       "      <td>2.88</td>\n",
       "      <td>0.27</td>\n",
       "      <td>1.69</td>\n",
       "      <td>3.80</td>\n",
       "      <td>1.11</td>\n",
       "      <td>4.00</td>\n",
       "      <td>1035</td>\n",
       "      <td>0</td>\n",
       "    </tr>\n",
       "  </tbody>\n",
       "</table>\n",
       "</div>"
      ],
      "text/plain": [
       "      Alcohol  Malic   Ash  Alcalinity  Magnesium  Phenols  Flavanoids  \\\n",
       "Type                                                                     \n",
       "3       13.40   3.91  2.48        23.0        102     1.80        0.75   \n",
       "2       11.82   1.72  1.88        19.5         86     2.50        1.64   \n",
       "1       13.07   1.50  2.10        15.5         98     2.40        2.64   \n",
       "2       12.29   3.17  2.21        18.0         88     2.85        2.99   \n",
       "1       13.71   1.86  2.36        16.6        101     2.61        2.88   \n",
       "\n",
       "      Nonflavanoids  Proanthocyanins  Color   Hue  Dilution  Proline  Cluster  \n",
       "Type                                                                           \n",
       "3              0.43             1.41   7.30  0.70      1.56      750        2  \n",
       "2              0.37             1.42   2.06  0.94      2.44      415        1  \n",
       "1              0.28             1.37   3.70  1.18      2.69     1020        0  \n",
       "2              0.45             2.81   2.30  1.42      2.83      406        1  \n",
       "1              0.27             1.69   3.80  1.11      4.00     1035        0  "
      ]
     },
     "execution_count": 119,
     "metadata": {},
     "output_type": "execute_result"
    }
   ],
   "source": [
    "### Comparing K-Means Clustering solution with the ’Type’ variable\n",
    "## For the ease of our comparison, we will now add the created cluster to our dataframe\n",
    "\n",
    "wine_df['Cluster'] = wine_y_clust\n",
    "wine_df.sample(5)"
   ]
  },
  {
   "cell_type": "code",
   "execution_count": 120,
   "metadata": {},
   "outputs": [
    {
     "data": {
      "text/plain": [
       "Int64Index([1, 2], dtype='int64', name='Type')"
      ]
     },
     "execution_count": 120,
     "metadata": {},
     "output_type": "execute_result"
    }
   ],
   "source": [
    "clust_0 = wine_df.loc[wine_df['Cluster'].isin([0])]  ## Separating only Cluster 0\n",
    "clust_0.index.unique()"
   ]
  },
  {
   "cell_type": "code",
   "execution_count": 121,
   "metadata": {},
   "outputs": [
    {
     "data": {
      "text/plain": [
       "Int64Index([1, 1, 1, 1, 1, 1, 1, 1, 1, 1, 1, 1, 1, 1, 1, 1, 1, 1, 1, 1, 1, 1,\n",
       "            1, 1, 1, 1, 1, 1, 1, 1, 1, 1, 1, 1, 1, 1, 1, 1, 1, 1, 1, 1, 1, 1,\n",
       "            1, 1, 1, 1, 1, 1, 1, 1, 1, 1, 1, 1, 1, 1, 1, 2, 2, 2],\n",
       "           dtype='int64', name='Type')"
      ]
     },
     "execution_count": 121,
     "metadata": {},
     "output_type": "execute_result"
    }
   ],
   "source": [
    "clust_0.index   "
   ]
  },
  {
   "cell_type": "code",
   "execution_count": 122,
   "metadata": {},
   "outputs": [
    {
     "data": {
      "text/plain": [
       "Int64Index([2], dtype='int64', name='Type')"
      ]
     },
     "execution_count": 122,
     "metadata": {},
     "output_type": "execute_result"
    }
   ],
   "source": [
    "clust_1 = wine_df.loc[wine_df['Cluster'].isin([1])]  ## Separating only Cluster 1\n",
    "clust_1.index.unique()"
   ]
  },
  {
   "cell_type": "code",
   "execution_count": 123,
   "metadata": {},
   "outputs": [
    {
     "data": {
      "text/plain": [
       "Int64Index([2, 3], dtype='int64', name='Type')"
      ]
     },
     "execution_count": 123,
     "metadata": {},
     "output_type": "execute_result"
    }
   ],
   "source": [
    "clust_2 = wine_df.loc[wine_df['Cluster'].isin([2])]   ## Separating only Cluster 2\n",
    "clust_2.index.unique()"
   ]
  },
  {
   "cell_type": "code",
   "execution_count": 124,
   "metadata": {},
   "outputs": [
    {
     "data": {
      "text/plain": [
       "Int64Index([2, 2, 2, 3, 3, 3, 3, 3, 3, 3, 3, 3, 3, 3, 3, 3, 3, 3, 3, 3, 3, 3,\n",
       "            3, 3, 3, 3, 3, 3, 3, 3, 3, 3, 3, 3, 3, 3, 3, 3, 3, 3, 3, 3, 3, 3,\n",
       "            3, 3, 3, 3, 3, 3, 3],\n",
       "           dtype='int64', name='Type')"
      ]
     },
     "execution_count": 124,
     "metadata": {},
     "output_type": "execute_result"
    }
   ],
   "source": [
    "clust_2.index"
   ]
  },
  {
   "cell_type": "markdown",
   "metadata": {},
   "source": [
    "**Comments:-** on Comparing K-Means Clustering solution with the ’Type’ variable-\n",
    "\n",
    "We can see that **Cluster 1** solely represents **Wine Type 2**, whilst most of the wines belonging to the **Cluster 0 and Cluster 2** represent **Wine Type 1 and 3** respectively. \n",
    "\n",
    "Therefore, **Cluster 0 and 2** are slightly mixed."
   ]
  },
  {
   "cell_type": "code",
   "execution_count": null,
   "metadata": {},
   "outputs": [],
   "source": []
  }
 ],
 "metadata": {
  "kernelspec": {
   "display_name": "Python 3",
   "language": "python",
   "name": "python3"
  },
  "language_info": {
   "codemirror_mode": {
    "name": "ipython",
    "version": 3
   },
   "file_extension": ".py",
   "mimetype": "text/x-python",
   "name": "python",
   "nbconvert_exporter": "python",
   "pygments_lexer": "ipython3",
   "version": "3.7.6"
  }
 },
 "nbformat": 4,
 "nbformat_minor": 4
}
